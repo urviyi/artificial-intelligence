{
 "cells": [
  {
   "cell_type": "markdown",
   "metadata": {},
   "source": [
    "# Project: Part of Speech Tagging with Hidden Markov Models \n",
    "---\n",
    "### Introduction\n",
    "\n",
    "Part of speech tagging is the process of determining the syntactic category of a word from the words in its surrounding context. It is often used to help disambiguate natural language phrases because it can be done quickly with high accuracy. Tagging can be used for many NLP tasks like determining correct pronunciation during speech synthesis (for example, _dis_-count as a noun vs dis-_count_ as a verb), for information retrieval, and for word sense disambiguation.\n",
    "\n",
    "In this notebook, you'll use the [Pomegranate](http://pomegranate.readthedocs.io/) library to build a hidden Markov model for part of speech tagging using a \"universal\" tagset. Hidden Markov models have been able to achieve [>96% tag accuracy with larger tagsets on realistic text corpora](http://www.coli.uni-saarland.de/~thorsten/publications/Brants-ANLP00.pdf). Hidden Markov models have also been used for speech recognition and speech generation, machine translation, gene recognition for bioinformatics, and human gesture recognition for computer vision, and more. \n",
    "\n",
    "![](_post-hmm.png)\n",
    "\n",
    "The notebook already contains some code to get you started. You only need to add some new functionality in the areas indicated to complete the project; you will not need to modify the included code beyond what is requested. Sections that begin with **'IMPLEMENTATION'** in the header indicate that you must provide code in the block that follows. Instructions will be provided for each section, and the specifics of the implementation are marked in the code block with a 'TODO' statement. Please be sure to read the instructions carefully!"
   ]
  },
  {
   "cell_type": "markdown",
   "metadata": {},
   "source": [
    "<div class=\"alert alert-block alert-info\">\n",
    "**Note:** Once you have completed all of the code implementations, you need to finalize your work by exporting the iPython Notebook as an HTML document. Before exporting the notebook to html, all of the code cells need to have been run so that reviewers can see the final implementation and output. You must then **export the notebook** by running the last cell in the notebook, or by using the menu above and navigating to **File -> Download as -> HTML (.html)** Your submissions should include both the `html` and `ipynb` files.\n",
    "</div>"
   ]
  },
  {
   "cell_type": "markdown",
   "metadata": {},
   "source": [
    "<div class=\"alert alert-block alert-info\">\n",
    "**Note:** Code and Markdown cells can be executed using the `Shift + Enter` keyboard shortcut. Markdown cells can be edited by double-clicking the cell to enter edit mode.\n",
    "</div>"
   ]
  },
  {
   "cell_type": "markdown",
   "metadata": {},
   "source": [
    "### The Road Ahead\n",
    "You must complete Steps 1-3 below to pass the project. The section on Step 4 includes references & resources you can use to further explore HMM taggers.\n",
    "\n",
    "- [Step 1](#Step-1:-Read-and-preprocess-the-dataset): Review the provided interface to load and access the text corpus\n",
    "- [Step 2](#Step-2:-Build-a-Most-Frequent-Class-tagger): Build a Most Frequent Class tagger to use as a baseline\n",
    "- [Step 3](#Step-3:-Build-an-HMM-tagger): Build an HMM Part of Speech tagger and compare to the MFC baseline\n",
    "- [Step 4](#Step-4:-[Optional]-Improving-model-performance): (Optional) Improve the HMM tagger"
   ]
  },
  {
   "cell_type": "code",
   "execution_count": 55,
   "metadata": {},
   "outputs": [],
   "source": [
    "import sys"
   ]
  },
  {
   "cell_type": "code",
   "execution_count": 56,
   "metadata": {},
   "outputs": [],
   "source": [
    "import site"
   ]
  },
  {
   "cell_type": "code",
   "execution_count": 57,
   "metadata": {},
   "outputs": [
    {
     "name": "stdout",
     "output_type": "stream",
     "text": [
      "Requirement already satisfied: helpers in /Users/urvipatel/anaconda/lib/python3.6/site-packages (0.2.0)\r\n"
     ]
    }
   ],
   "source": [
    "!pip3 install helpers"
   ]
  },
  {
   "cell_type": "code",
   "execution_count": 58,
   "metadata": {},
   "outputs": [
    {
     "name": "stdout",
     "output_type": "stream",
     "text": [
      "Requirement already satisfied: tests in /Users/urvipatel/anaconda/lib/python3.6/site-packages (0.7)\r\n"
     ]
    }
   ],
   "source": [
    "!pip3 install tests"
   ]
  },
  {
   "cell_type": "code",
   "execution_count": 59,
   "metadata": {},
   "outputs": [
    {
     "name": "stdout",
     "output_type": "stream",
     "text": [
      "The autoreload extension is already loaded. To reload it, use:\n",
      "  %reload_ext autoreload\n"
     ]
    }
   ],
   "source": [
    "# Jupyter \"magic methods\" -- only need to be run once per kernel restart\n",
    "%load_ext autoreload\n",
    "import helpers, tests\n",
    "%autoreload 1"
   ]
  },
  {
   "cell_type": "code",
   "execution_count": 60,
   "metadata": {},
   "outputs": [],
   "source": [
    "# import python modules -- this cell needs to be run again if you make changes to any of the files\n",
    "import matplotlib.pyplot as plt\n",
    "import numpy as np\n",
    "\n",
    "from IPython.core.display import HTML\n",
    "from itertools import chain\n",
    "from collections import Counter, defaultdict\n",
    "from helpers import show_model, Dataset\n",
    "from pomegranate import State, HiddenMarkovModel, DiscreteDistribution"
   ]
  },
  {
   "cell_type": "markdown",
   "metadata": {},
   "source": [
    "## Step 1: Read and preprocess the dataset\n",
    "---\n",
    "We'll start by reading in a text corpus and splitting it into a training and testing dataset. The data set is a copy of the [Brown corpus](https://en.wikipedia.org/wiki/Brown_Corpus) (originally from the [NLTK](https://www.nltk.org/) library) that has already been pre-processed to only include the [universal tagset](https://arxiv.org/pdf/1104.2086.pdf). You should expect to get slightly higher accuracy using this simplified tagset than the same model would achieve on a larger tagset like the full [Penn treebank tagset](https://www.ling.upenn.edu/courses/Fall_2003/ling001/penn_treebank_pos.html), but the process you'll follow would be the same.\n",
    "\n",
    "The `Dataset` class provided in helpers.py will read and parse the corpus. You can generate your own datasets compatible with the reader by writing them to the following format. The dataset is stored in plaintext as a collection of words and corresponding tags. Each sentence starts with a unique identifier on the first line, followed by one tab-separated word/tag pair on each following line. Sentences are separated by a single blank line.\n",
    "\n",
    "Example from the Brown corpus. \n",
    "```\n",
    "b100-38532\n",
    "Perhaps\tADV\n",
    "it\tPRON\n",
    "was\tVERB\n",
    "right\tADJ\n",
    ";\t.\n",
    ";\t.\n",
    "\n",
    "b100-35577\n",
    "...\n",
    "```"
   ]
  },
  {
   "cell_type": "code",
   "execution_count": 61,
   "metadata": {},
   "outputs": [
    {
     "name": "stdout",
     "output_type": "stream",
     "text": [
      "There are 57340 sentences in the corpus.\n",
      "There are 45872 sentences in the training set.\n",
      "There are 11468 sentences in the testing set.\n"
     ]
    }
   ],
   "source": [
    "data = Dataset(\"tags-universal.txt\", \"brown-universal.txt\", train_test_split=0.8)\n",
    "\n",
    "print(\"There are {} sentences in the corpus.\".format(len(data)))\n",
    "print(\"There are {} sentences in the training set.\".format(len(data.training_set)))\n",
    "print(\"There are {} sentences in the testing set.\".format(len(data.testing_set)))\n",
    "\n",
    "assert len(data) == len(data.training_set) + len(data.testing_set), \\\n",
    "       \"The number of sentences in the training set + testing set should sum to the number of sentences in the corpus\""
   ]
  },
  {
   "cell_type": "markdown",
   "metadata": {},
   "source": [
    "### The Dataset Interface\n",
    "\n",
    "You can access (mostly) immutable references to the dataset through a simple interface provided through the `Dataset` class, which represents an iterable collection of sentences along with easy access to partitions of the data for training & testing. Review the reference below, then run and review the next few cells to make sure you understand the interface before moving on to the next step.\n",
    "\n",
    "```\n",
    "Dataset-only Attributes:\n",
    "    training_set - reference to a Subset object containing the samples for training\n",
    "    testing_set - reference to a Subset object containing the samples for testing\n",
    "\n",
    "Dataset & Subset Attributes:\n",
    "    sentences - a dictionary with an entry {sentence_key: Sentence()} for each sentence in the corpus\n",
    "    keys - an immutable ordered (not sorted) collection of the sentence_keys for the corpus\n",
    "    vocab - an immutable collection of the unique words in the corpus\n",
    "    tagset - an immutable collection of the unique tags in the corpus\n",
    "    X - returns an array of words grouped by sentences ((w11, w12, w13, ...), (w21, w22, w23, ...), ...)\n",
    "    Y - returns an array of tags grouped by sentences ((t11, t12, t13, ...), (t21, t22, t23, ...), ...)\n",
    "    N - returns the number of distinct samples (individual words or tags) in the dataset\n",
    "\n",
    "Methods:\n",
    "    stream() - returns an flat iterable over all (word, tag) pairs across all sentences in the corpus\n",
    "    __iter__() - returns an iterable over the data as (sentence_key, Sentence()) pairs\n",
    "    __len__() - returns the nubmer of sentences in the dataset\n",
    "```\n",
    "\n",
    "For example, consider a Subset, `subset`, of the sentences `{\"s0\": Sentence((\"See\", \"Spot\", \"run\"), (\"VERB\", \"NOUN\", \"VERB\")), \"s1\": Sentence((\"Spot\", \"ran\"), (\"NOUN\", \"VERB\"))}`. The subset will have these attributes:\n",
    "\n",
    "```\n",
    "subset.keys == {\"s1\", \"s0\"}  # unordered\n",
    "subset.vocab == {\"See\", \"run\", \"ran\", \"Spot\"}  # unordered\n",
    "subset.tagset == {\"VERB\", \"NOUN\"}  # unordered\n",
    "subset.X == ((\"Spot\", \"ran\"), (\"See\", \"Spot\", \"run\"))  # order matches .keys\n",
    "subset.Y == ((\"NOUN\", \"VERB\"), (\"VERB\", \"NOUN\", \"VERB\"))  # order matches .keys\n",
    "subset.N == 7  # there are a total of seven observations over all sentences\n",
    "len(subset) == 2  # because there are two sentences\n",
    "```\n",
    "\n",
    "<div class=\"alert alert-block alert-info\">\n",
    "**Note:** The `Dataset` class is _convenient_, but it is **not** efficient. It is not suitable for huge datasets because it stores multiple redundant copies of the same data.\n",
    "</div>"
   ]
  },
  {
   "cell_type": "markdown",
   "metadata": {},
   "source": [
    "#### Sentences\n",
    "\n",
    "`Dataset.sentences` is a dictionary of all sentences in the training corpus, each keyed to a unique sentence identifier. Each `Sentence` is itself an object with two attributes: a tuple of the words in the sentence named `words` and a tuple of the tag corresponding to each word named `tags`."
   ]
  },
  {
   "cell_type": "code",
   "execution_count": 62,
   "metadata": {},
   "outputs": [
    {
     "name": "stdout",
     "output_type": "stream",
     "text": [
      "Sentence: b100-38532\n",
      "words:\n",
      "\t('Perhaps', 'it', 'was', 'right', ';', ';')\n",
      "tags:\n",
      "\t('ADV', 'PRON', 'VERB', 'ADJ', '.', '.')\n"
     ]
    }
   ],
   "source": [
    "key = 'b100-38532'\n",
    "print(\"Sentence: {}\".format(key))\n",
    "print(\"words:\\n\\t{!s}\".format(data.sentences[key].words))\n",
    "print(\"tags:\\n\\t{!s}\".format(data.sentences[key].tags))"
   ]
  },
  {
   "cell_type": "markdown",
   "metadata": {},
   "source": [
    "<div class=\"alert alert-block alert-info\">\n",
    "**Note:** The underlying iterable sequence is **unordered** over the sentences in the corpus; it is not guaranteed to return the sentences in a consistent order between calls. Use `Dataset.stream()`, `Dataset.keys`, `Dataset.X`, or `Dataset.Y` attributes if you need ordered access to the data.\n",
    "</div>\n",
    "\n",
    "#### Counting Unique Elements\n",
    "\n",
    "You can access the list of unique words (the dataset vocabulary) via `Dataset.vocab` and the unique list of tags via `Dataset.tagset`."
   ]
  },
  {
   "cell_type": "code",
   "execution_count": 63,
   "metadata": {},
   "outputs": [
    {
     "name": "stdout",
     "output_type": "stream",
     "text": [
      "There are a total of 1161192 samples of 56057 unique words in the corpus.\n",
      "There are 928458 samples of 50536 unique words in the training set.\n",
      "There are 232734 samples of 25112 unique words in the testing set.\n",
      "There are 5521 words in the test set that are missing in the training set.\n"
     ]
    }
   ],
   "source": [
    "print(\"There are a total of {} samples of {} unique words in the corpus.\"\n",
    "      .format(data.N, len(data.vocab)))\n",
    "print(\"There are {} samples of {} unique words in the training set.\"\n",
    "      .format(data.training_set.N, len(data.training_set.vocab)))\n",
    "print(\"There are {} samples of {} unique words in the testing set.\"\n",
    "      .format(data.testing_set.N, len(data.testing_set.vocab)))\n",
    "print(\"There are {} words in the test set that are missing in the training set.\"\n",
    "      .format(len(data.testing_set.vocab - data.training_set.vocab)))\n",
    "\n",
    "assert data.N == data.training_set.N + data.testing_set.N, \\\n",
    "       \"The number of training + test samples should sum to the total number of samples\""
   ]
  },
  {
   "cell_type": "markdown",
   "metadata": {},
   "source": [
    "#### Accessing word and tag Sequences\n",
    "The `Dataset.X` and `Dataset.Y` attributes provide access to ordered collections of matching word and tag sequences for each sentence in the dataset."
   ]
  },
  {
   "cell_type": "code",
   "execution_count": 84,
   "metadata": {},
   "outputs": [
    {
     "name": "stdout",
     "output_type": "stream",
     "text": [
      "Sentence 1: ('Mr.', 'Podger', 'had', 'thanked', 'him', 'gravely', ',', 'and', 'now', 'he', 'made', 'use', 'of', 'the', 'advice', '.')\n",
      "\n",
      "Labels 1: ('NOUN', 'NOUN', 'VERB', 'VERB', 'PRON', 'ADV', '.', 'CONJ', 'ADV', 'PRON', 'VERB', 'NOUN', 'ADP', 'DET', 'NOUN', '.')\n",
      "\n",
      "Sentence 2: ('But', 'there', 'seemed', 'to', 'be', 'some', 'difference', 'of', 'opinion', 'as', 'to', 'how', 'far', 'the', 'board', 'should', 'go', ',', 'and', 'whose', 'advice', 'it', 'should', 'follow', '.')\n",
      "\n",
      "Labels 2: ('CONJ', 'PRT', 'VERB', 'PRT', 'VERB', 'DET', 'NOUN', 'ADP', 'NOUN', 'ADP', 'ADP', 'ADV', 'ADV', 'DET', 'NOUN', 'VERB', 'VERB', '.', 'CONJ', 'DET', 'NOUN', 'PRON', 'VERB', 'VERB', '.')\n",
      "\n",
      "Sentence 3: ('Such', 'an', 'instrument', 'is', 'expected', 'to', 'be', 'especially', 'useful', 'if', 'it', 'could', 'be', 'used', 'to', 'measure', 'the', 'elasticity', 'of', 'heavy', 'pastes', 'such', 'as', 'printing', 'inks', ',', 'paints', ',', 'adhesives', ',', 'molten', 'plastics', ',', 'and', 'bread', 'dough', ',', 'for', 'the', 'elasticity', 'is', 'related', 'to', 'those', 'various', 'properties', 'termed', '``', 'length', \"''\", ',', '``', 'shortness', \"''\", ',', '``', 'spinnability', \"''\", ',', 'etc.', ',', 'which', 'are', 'usually', 'judged', 'by', 'subjective', 'methods', 'at', 'present', '.')\n",
      "\n",
      "Labels 3: ('PRT', 'DET', 'NOUN', 'VERB', 'VERB', 'PRT', 'VERB', 'ADV', 'ADJ', 'ADP', 'PRON', 'VERB', 'VERB', 'VERB', 'PRT', 'VERB', 'DET', 'NOUN', 'ADP', 'ADJ', 'NOUN', 'ADJ', 'ADP', 'VERB', 'NOUN', '.', 'NOUN', '.', 'NOUN', '.', 'ADJ', 'NOUN', '.', 'CONJ', 'NOUN', 'NOUN', '.', 'ADP', 'DET', 'NOUN', 'VERB', 'VERB', 'ADP', 'DET', 'ADJ', 'NOUN', 'VERB', '.', 'NOUN', '.', '.', '.', 'NOUN', '.', '.', '.', 'NOUN', '.', '.', 'ADV', '.', 'DET', 'VERB', 'ADV', 'VERB', 'ADP', 'ADJ', 'NOUN', 'ADP', 'NOUN', '.')\n",
      "\n",
      "Sentence 4: ('My', 'future', 'plans', 'are', 'to', 'become', 'a', 'language', 'teacher', '.')\n",
      "\n",
      "Labels 4: ('DET', 'ADJ', 'NOUN', 'VERB', 'PRT', 'VERB', 'DET', 'NOUN', 'NOUN', '.')\n",
      "\n",
      "Sentence 5: ('We', 'ran', 'east', 'for', 'about', 'half', 'a', 'mile', 'before', 'we', 'turned', 'back', 'to', 'the', 'road', ',', 'panting', 'from', 'the', 'effort', 'and', 'soaked', 'with', 'sweat', '.')\n",
      "\n",
      "Labels 5: ('PRON', 'VERB', 'NOUN', 'ADP', 'ADV', 'PRT', 'DET', 'NOUN', 'ADP', 'PRON', 'VERB', 'ADV', 'ADP', 'DET', 'NOUN', '.', 'VERB', 'ADP', 'DET', 'NOUN', 'CONJ', 'VERB', 'ADP', 'NOUN', '.')\n",
      "\n",
      "Sentence 6: ('After', 'television', ',', '``', 'La', 'Dolce', 'Vita', \"''\", 'seems', 'as', 'harmless', 'as', 'a', 'Gray', 'Line', 'tour', 'of', 'North', 'Beach', 'at', 'night', '.')\n",
      "\n",
      "Labels 6: ('ADP', 'NOUN', '.', '.', 'X', 'X', 'X', '.', 'VERB', 'ADV', 'ADJ', 'ADP', 'DET', 'ADJ', 'NOUN', 'NOUN', 'ADP', 'ADJ', 'NOUN', 'ADP', 'NOUN', '.')\n",
      "\n",
      "Sentence 7: ('It', 'would', 'give', 'him', 'an', 'opportunity', 'to', 'take', 'the', 'measure', 'of', 'his', 'chief', 'adversary', 'in', 'the', 'cold', 'war', ',', 'to', 'try', 'to', 'probe', 'Mr.', \"Khrushchev's\", 'intentions', 'and', 'to', 'make', 'clear', 'his', 'own', 'views', '.')\n",
      "\n",
      "Labels 7: ('PRON', 'VERB', 'VERB', 'PRON', 'DET', 'NOUN', 'PRT', 'VERB', 'DET', 'NOUN', 'ADP', 'DET', 'ADJ', 'NOUN', 'ADP', 'DET', 'ADJ', 'NOUN', '.', 'PRT', 'VERB', 'PRT', 'VERB', 'NOUN', 'NOUN', 'NOUN', 'CONJ', 'PRT', 'VERB', 'ADJ', 'DET', 'ADJ', 'NOUN', '.')\n",
      "\n",
      "Sentence 8: ('She', 'had', 'to', 'move', 'in', 'some', 'direction', '--', 'any', 'direction', 'that', 'would', 'take', 'her', 'away', 'from', 'this', 'evil', 'place', '.')\n",
      "\n",
      "Labels 8: ('PRON', 'VERB', 'PRT', 'VERB', 'ADP', 'DET', 'NOUN', '.', 'DET', 'NOUN', 'PRON', 'VERB', 'VERB', 'PRON', 'ADV', 'ADP', 'DET', 'ADJ', 'NOUN', '.')\n",
      "\n",
      "Sentence 9: ('English', 'philosopher', 'Samuel', \"Alexander's\", 'debt', 'to', 'Wordsworth', 'and', 'Meredith', 'is', 'a', 'recent', 'interesting', 'example', ',', 'as', 'also', 'A.', 'N.', \"Whitehead's\", 'understanding', 'of', 'the', 'English', 'romantics', ',', 'chiefly', 'Shelley', 'and', 'Wordsworth', '.')\n",
      "\n",
      "Labels 9: ('ADJ', 'NOUN', 'NOUN', 'NOUN', 'NOUN', 'ADP', 'NOUN', 'CONJ', 'NOUN', 'VERB', 'DET', 'ADJ', 'ADJ', 'NOUN', '.', 'ADP', 'ADV', 'NOUN', 'NOUN', 'NOUN', 'NOUN', 'ADP', 'DET', 'ADJ', 'NOUN', '.', 'ADV', 'NOUN', 'CONJ', 'NOUN', '.')\n",
      "\n",
      "Sentence 10: ('So', 'we', 'are', 'faced', 'with', 'a', 'vast', 'network', 'of', 'amorphous', 'entities', 'perpetuating', 'themselves', 'in', 'whatever', 'manner', 'they', 'can', ',', 'without', 'regard', 'to', 'the', 'needs', 'of', 'society', ',', 'controlling', 'society', 'and', 'forcing', 'upon', 'it', 'a', 'regime', 'representing', 'only', 'the', \"corporation's\", 'needs', 'for', 'survival', '.')\n",
      "\n",
      "Labels 10: ('ADV', 'PRON', 'VERB', 'VERB', 'ADP', 'DET', 'ADJ', 'NOUN', 'ADP', 'ADJ', 'NOUN', 'VERB', 'PRON', 'ADP', 'DET', 'NOUN', 'PRON', 'VERB', '.', 'ADP', 'NOUN', 'ADP', 'DET', 'NOUN', 'ADP', 'NOUN', '.', 'VERB', 'NOUN', 'CONJ', 'VERB', 'ADP', 'PRON', 'DET', 'NOUN', 'VERB', 'ADV', 'DET', 'NOUN', 'NOUN', 'ADP', 'NOUN', '.')\n",
      "\n",
      "Sentence 11: ('First', ',', 'we', 'can', 'encourage', 'responsibility', 'by', 'establishing', 'as', 'conditions', 'for', 'assistance', 'on', 'a', 'substantial', 'and', 'sustained', 'scale', 'the', 'definition', 'of', 'objectives', 'and', 'the', 'assessment', 'of', 'costs', '.')\n",
      "\n",
      "Labels 11: ('ADV', '.', 'PRON', 'VERB', 'VERB', 'NOUN', 'ADP', 'VERB', 'ADP', 'NOUN', 'ADP', 'NOUN', 'ADP', 'DET', 'ADJ', 'CONJ', 'VERB', 'NOUN', 'DET', 'NOUN', 'ADP', 'NOUN', 'CONJ', 'DET', 'NOUN', 'ADP', 'NOUN', '.')\n",
      "\n",
      "Sentence 12: ('Could', 'it', 'just', 'be', ',', 'Theresa', 'wondered', ',', 'that', 'Anne', 'had', 'understood', 'only', 'too', 'well', ',', 'and', 'that', 'George', 'all', 'along', 'was', 'extraordinary', 'only', 'in', 'the', 'degree', 'to', 'which', 'he', 'was', 'dull', '?', '?')\n",
      "\n",
      "Labels 12: ('VERB', 'PRON', 'ADV', 'VERB', '.', 'NOUN', 'VERB', '.', 'ADP', 'NOUN', 'VERB', 'VERB', 'ADV', 'ADV', 'ADV', '.', 'CONJ', 'ADP', 'NOUN', 'PRT', 'ADV', 'VERB', 'ADJ', 'ADV', 'ADP', 'DET', 'NOUN', 'ADP', 'DET', 'PRON', 'VERB', 'ADJ', '.', '.')\n",
      "\n",
      "Sentence 13: ('Since', 'Af', 'and', 'P', 'divides', 'Af', 'for', 'Af', ',', 'we', 'have', 'Af', '.')\n",
      "\n",
      "Labels 13: ('ADP', 'NOUN', 'CONJ', 'NOUN', 'VERB', 'NOUN', 'ADP', 'NOUN', '.', 'PRON', 'VERB', 'NOUN', '.')\n",
      "\n",
      "Sentence 14: ('1', '.')\n",
      "\n",
      "Labels 14: ('NUM', '.')\n",
      "\n",
      "Sentence 15: ('In', 'upper', 'teen', 'Jewish', 'life', ',', 'the', 'non-college', 'group', 'tends', 'to', 'have', 'a', 'sense', 'of', 'marginality', '.')\n",
      "\n",
      "Labels 15: ('ADP', 'ADJ', 'NOUN', 'ADJ', 'NOUN', '.', 'DET', 'NOUN', 'NOUN', 'VERB', 'PRT', 'VERB', 'DET', 'NOUN', 'ADP', 'NOUN', '.')\n",
      "\n",
      "Sentence 16: ('One', 'tempest', 'was', 'stirred', 'up', 'last', 'March', 'when', 'Udall', 'announced', 'that', 'an', 'eight-and-a-half-foot', 'bronze', 'statue', 'of', 'William', 'Jennings', 'Bryan', ',', 'sculpted', 'by', 'the', 'late', 'Gutzon', 'Borglum', ',', 'would', 'be', 'sent', '``', 'on', 'indefinite', 'loan', \"''\", 'to', 'Salem', ',', 'Illinois', ',', \"Bryan's\", 'birthplace', '.')\n",
      "\n",
      "Labels 16: ('NUM', 'NOUN', 'VERB', 'VERB', 'PRT', 'ADJ', 'NOUN', 'ADV', 'NOUN', 'VERB', 'ADP', 'DET', 'ADJ', 'NOUN', 'NOUN', 'ADP', 'NOUN', 'NOUN', 'NOUN', '.', 'VERB', 'ADP', 'DET', 'ADJ', 'NOUN', 'NOUN', '.', 'VERB', 'VERB', 'VERB', '.', 'ADP', 'ADJ', 'NOUN', '.', 'ADP', 'NOUN', '.', 'NOUN', '.', 'NOUN', 'NOUN', '.')\n",
      "\n",
      "Sentence 17: ('You', 'killed', 'him', ',', \"didn't\", 'you', \"''\", '?', '?')\n",
      "\n",
      "Labels 17: ('PRON', 'VERB', 'PRON', '.', 'VERB', 'PRON', '.', '.', '.')\n",
      "\n",
      "Sentence 18: ('In', 'the', 'first', 'case', 'the', 'fixed', 'elements', 'within', 'each', 'pencil', 'are', 'the', 'multiple', 'secant', 'and', 'the', 'line', 'joining', 'the', 'vertex', ',', 'P', ',', 'to', 'the', 'intersection', 'of', '**zg', 'and', 'the', 'plane', 'of', 'the', 'pencil', 'which', 'does', 'not', 'lie', 'on', 'the', 'multiple', 'secant', '.')\n",
      "\n",
      "Labels 18: ('ADP', 'DET', 'ADJ', 'NOUN', 'DET', 'VERB', 'NOUN', 'ADP', 'DET', 'NOUN', 'VERB', 'DET', 'ADJ', 'NOUN', 'CONJ', 'DET', 'NOUN', 'VERB', 'DET', 'NOUN', '.', 'NOUN', '.', 'ADP', 'DET', 'NOUN', 'ADP', 'NOUN', 'CONJ', 'DET', 'NOUN', 'ADP', 'DET', 'NOUN', 'DET', 'VERB', 'ADV', 'VERB', 'ADP', 'DET', 'ADJ', 'NOUN', '.')\n",
      "\n",
      "Sentence 19: ('Before', 'you', 'let', 'loose', 'a', 'howl', 'saying', 'we', 'announced', 'its', 'coming', ',', 'not', 'once', 'but', 'several', 'times', ',', 'indeed', 'we', 'did', '.')\n",
      "\n",
      "Labels 19: ('ADP', 'PRON', 'VERB', 'ADJ', 'DET', 'NOUN', 'VERB', 'PRON', 'VERB', 'DET', 'NOUN', '.', 'ADV', 'ADV', 'CONJ', 'ADJ', 'NOUN', '.', 'ADV', 'PRON', 'VERB', '.')\n",
      "\n",
      "Sentence 20: ('``', 'Either', 'that', 'or', 'a', 'veterinarian', \"''\", '.')\n",
      "\n",
      "Labels 20: ('.', 'CONJ', 'DET', 'CONJ', 'DET', 'NOUN', '.', '.')\n",
      "\n",
      "Sentence 21: ('Mr.', 'Kennan', 'takes', 'careful', 'account', 'of', 'every', 'mitigating', 'circumstance', 'in', 'recalling', 'the', 'historical', 'atmosphere', 'in', 'which', 'mistaken', 'decisions', 'were', 'taken', '.')\n",
      "\n",
      "Labels 21: ('NOUN', 'NOUN', 'VERB', 'ADJ', 'NOUN', 'ADP', 'DET', 'VERB', 'NOUN', 'ADP', 'VERB', 'DET', 'ADJ', 'NOUN', 'ADP', 'DET', 'VERB', 'NOUN', 'VERB', 'VERB', '.')\n",
      "\n",
      "Sentence 22: ('In', '1957', 'the', 'social-economic', 'approach', 'to', 'European', 'integration', 'was', 'capped', 'by', 'the', 'formation', 'among', '``', 'the', 'Six', \"''\", 'of', 'a', 'tariff-free', 'European', 'Common', 'Market', ',', 'and', 'Euratom', 'for', 'cooperation', 'in', 'the', 'development', 'of', 'atomic', 'energy', '.')\n",
      "\n",
      "Labels 22: ('ADP', 'NUM', 'DET', 'ADJ', 'NOUN', 'ADP', 'ADJ', 'NOUN', 'VERB', 'VERB', 'ADP', 'DET', 'NOUN', 'ADP', '.', 'DET', 'NUM', '.', 'ADP', 'DET', 'ADJ', 'ADJ', 'ADJ', 'NOUN', '.', 'CONJ', 'NOUN', 'ADP', 'NOUN', 'ADP', 'DET', 'NOUN', 'ADP', 'ADJ', 'NOUN', '.')\n",
      "\n",
      "Sentence 23: ('This', 'leads', 'one', 'to', 'conclude', ',', 'as', 'you', 'have', ',', 'that', 'there', 'is', 'inevitably', 'more', 'prestige', 'in', 'a', 'management', 'position', 'in', 'the', 'minds', 'of', 'our', 'people', \"''\", '.')\n",
      "\n",
      "Labels 23: ('DET', 'VERB', 'NOUN', 'PRT', 'VERB', '.', 'ADP', 'PRON', 'VERB', '.', 'ADP', 'PRT', 'VERB', 'ADV', 'ADJ', 'NOUN', 'ADP', 'DET', 'NOUN', 'NOUN', 'ADP', 'DET', 'NOUN', 'ADP', 'DET', 'NOUN', '.', '.')\n",
      "\n",
      "Sentence 24: ('``', 'I', 'have', 'to', 'believe', 'it', \"''\", '.')\n",
      "\n",
      "Labels 24: ('.', 'PRON', 'VERB', 'PRT', 'VERB', 'PRON', '.', '.')\n",
      "\n",
      "Sentence 25: ('But', 'then', ',', 'when', 'you', 'stuck', 'things', 'into', 'the', 'holes', ',', 'why', \"didn't\", 'they', 'come', 'right', 'out', 'again', '?', '?')\n",
      "\n",
      "Labels 25: ('CONJ', 'ADV', '.', 'ADV', 'PRON', 'VERB', 'NOUN', 'ADP', 'DET', 'NOUN', '.', 'ADV', 'VERB', 'PRON', 'VERB', 'ADV', 'PRT', 'ADV', '.', '.')\n",
      "\n",
      "Sentence 26: ('But', 'no', 'art', 'at', 'all', 'was', 'born', 'of', 'the', 'art', 'effort', 'in', 'the', 'early', 'movies', '.')\n",
      "\n",
      "Labels 26: ('CONJ', 'DET', 'NOUN', 'ADP', 'PRT', 'VERB', 'VERB', 'ADP', 'DET', 'NOUN', 'NOUN', 'ADP', 'DET', 'ADJ', 'NOUN', '.')\n",
      "\n",
      "Sentence 27: ('``', 'To', 'me', \"you'll\", 'always', 'be', 'the', 'girl', \"o'\", 'my', 'dreams', ',', \"an'\", 'the', 'sweetest', 'flower', 'that', 'grows', \"''\", '.')\n",
      "\n",
      "Labels 27: ('.', 'ADP', 'PRON', 'PRT', 'ADV', 'VERB', 'DET', 'NOUN', 'ADP', 'DET', 'NOUN', '.', 'CONJ', 'DET', 'ADJ', 'NOUN', 'DET', 'VERB', '.', '.')\n",
      "\n",
      "Sentence 28: ('He', 'held', 'his', 'elbows', 'away', 'from', 'his', 'body', ',', 'and', 'the', 'little', 'sweet', 'potato', 'trilled', 'neatly', 'and', 'sweetly', 'as', 'he', 'tickled', 'its', 'tune-belly', '.')\n",
      "\n",
      "Labels 28: ('PRON', 'VERB', 'DET', 'NOUN', 'ADV', 'ADP', 'DET', 'NOUN', '.', 'CONJ', 'DET', 'ADJ', 'ADJ', 'NOUN', 'VERB', 'ADV', 'CONJ', 'ADV', 'ADP', 'PRON', 'VERB', 'DET', 'NOUN', '.')\n",
      "\n",
      "Sentence 29: ('The', 'jury', 'also', 'commented', 'on', 'the', 'Fulton', \"ordinary's\", 'court', 'which', 'has', 'been', 'under', 'fire', 'for', 'its', 'practices', 'in', 'the', 'appointment', 'of', 'appraisers', ',', 'guardians', 'and', 'administrators', 'and', 'the', 'awarding', 'of', 'fees', 'and', 'compensation', '.')\n",
      "\n",
      "Labels 29: ('DET', 'NOUN', 'ADV', 'VERB', 'ADP', 'DET', 'NOUN', 'NOUN', 'NOUN', 'DET', 'VERB', 'VERB', 'ADP', 'NOUN', 'ADP', 'DET', 'NOUN', 'ADP', 'DET', 'NOUN', 'ADP', 'NOUN', '.', 'NOUN', 'CONJ', 'NOUN', 'CONJ', 'DET', 'NOUN', 'ADP', 'NOUN', 'CONJ', 'NOUN', '.')\n",
      "\n",
      "Sentence 30: ('I', \"didn't\", 'want', 'to', 'stir', 'things', 'up', '.')\n",
      "\n",
      "Labels 30: ('PRON', 'VERB', 'VERB', 'PRT', 'VERB', 'NOUN', 'PRT', '.')\n",
      "\n",
      "Sentence 31: ('Yet', 'there', 'was', 'some', 'precedent', 'for', 'it', '.')\n",
      "\n",
      "Labels 31: ('ADV', 'PRT', 'VERB', 'DET', 'NOUN', 'ADP', 'PRON', '.')\n",
      "\n",
      "Sentence 32: ('At', 'the', 'time', 'of', 'his', 'capture', 'Helion', 'had', 'on', 'his', 'person', 'a', 'sketchbook', 'he', 'had', 'bought', 'at', \"Woolworth's\", 'in', 'New', 'York', '.')\n",
      "\n",
      "Labels 32: ('ADP', 'DET', 'NOUN', 'ADP', 'DET', 'NOUN', 'NOUN', 'VERB', 'ADP', 'DET', 'NOUN', 'DET', 'NOUN', 'PRON', 'VERB', 'VERB', 'ADP', 'NOUN', 'ADP', 'ADJ', 'NOUN', '.')\n",
      "\n",
      "Sentence 33: ('Nowhere', 'in', 'the', 'boat', 'do', 'the', 'frames', 'come', 'in', 'contact', 'with', 'the', 'plywood', 'planking', '.')\n",
      "\n",
      "Labels 33: ('ADV', 'ADP', 'DET', 'NOUN', 'VERB', 'DET', 'NOUN', 'VERB', 'ADP', 'NOUN', 'ADP', 'DET', 'NOUN', 'NOUN', '.')\n",
      "\n",
      "Sentence 34: ('Undoubtedly', ',', 'however', ',', 'the', 'significance', 'of', 'the', 'volume', 'is', 'greater', 'than', 'the', 'foregoing', 'paragraphs', 'suggest', '.')\n",
      "\n",
      "Labels 34: ('ADV', '.', 'ADV', '.', 'DET', 'NOUN', 'ADP', 'DET', 'NOUN', 'VERB', 'ADJ', 'ADP', 'DET', 'VERB', 'NOUN', 'VERB', '.')\n",
      "\n",
      "Sentence 35: ('Laguerre', 'Hanover', '(', '(', 'Tar', 'Heel-Lotus', 'Hanover', ')', ',', '2:30.3-:36.1', ';', ';')\n",
      "\n",
      "Labels 35: ('NOUN', 'NOUN', '.', '.', 'NOUN', 'NOUN', 'NOUN', '.', '.', 'NUM', '.', '.')\n",
      "\n",
      "Sentence 36: ('I', 'looked', 'from', 'her', 'to', 'him', '.')\n",
      "\n",
      "Labels 36: ('PRON', 'VERB', 'ADP', 'PRON', 'ADP', 'PRON', '.')\n",
      "\n",
      "Sentence 37: ('The', 'radioactivity', 'of', 'fallout', 'decays', 'rapidly', 'at', 'first', '.')\n",
      "\n",
      "Labels 37: ('DET', 'NOUN', 'ADP', 'NOUN', 'VERB', 'ADV', 'ADP', 'ADV', '.')\n",
      "\n",
      "Sentence 38: ('It', 'was', 'the', '7th', 'Cavalry', 'whose', 'troopers', 'were', 'charged', 'with', 'guarding', 'the', 'Imperial', 'Palace', 'of', 'the', 'Emperor', '.')\n",
      "\n",
      "Labels 38: ('PRON', 'VERB', 'DET', 'ADJ', 'NOUN', 'DET', 'NOUN', 'VERB', 'VERB', 'ADP', 'VERB', 'DET', 'ADJ', 'NOUN', 'ADP', 'DET', 'NOUN', '.')\n",
      "\n",
      "Sentence 39: ('He', 'said', ',', '``', 'We', 'had', 'a', 'good', 'time', 'tonight', ',', \"didn't\", 'we', ',', 'Earl', \"''\", '?', '?')\n",
      "\n",
      "Labels 39: ('PRON', 'VERB', '.', '.', 'PRON', 'VERB', 'DET', 'ADJ', 'NOUN', 'NOUN', '.', 'VERB', 'PRON', '.', 'NOUN', '.', '.', '.')\n",
      "\n",
      "Sentence 40: ('As', 'notable', 'examples', 'of', 'this', 'abuse', ',', 'he', 'quotes', 'passages', 'from', 'the', 'Examiner', ',', '``', 'that', 'Destroyer', 'of', 'all', 'things', \"''\", ',', 'and', 'The', 'Character', 'of', 'Richard', 'Steele', ',', 'which', 'he', 'here', 'attributes', 'to', 'Swift', '.')\n",
      "\n",
      "Labels 40: ('ADP', 'ADJ', 'NOUN', 'ADP', 'DET', 'NOUN', '.', 'PRON', 'VERB', 'NOUN', 'ADP', 'DET', 'NOUN', '.', '.', 'DET', 'NOUN', 'ADP', 'PRT', 'NOUN', '.', '.', 'CONJ', 'DET', 'NOUN', 'ADP', 'NOUN', 'NOUN', '.', 'DET', 'PRON', 'ADV', 'VERB', 'ADP', 'NOUN', '.')\n",
      "\n",
      "Sentence 41: ('The', 'truth', 'is', ',', 'though', ',', 'that', 'men', 'react', 'differently', 'to', 'different', 'treatment', '.')\n",
      "\n",
      "Labels 41: ('DET', 'NOUN', 'VERB', '.', 'ADV', '.', 'ADP', 'NOUN', 'VERB', 'ADV', 'ADP', 'ADJ', 'NOUN', '.')\n",
      "\n",
      "Sentence 42: ('Robert', 'E.', 'Lee', 'represented', 'the', 'dignity', 'needed', 'by', 'a', 'rebelling', 'confederacy', '.')\n",
      "\n",
      "Labels 42: ('NOUN', 'NOUN', 'NOUN', 'VERB', 'DET', 'NOUN', 'VERB', 'ADP', 'DET', 'VERB', 'NOUN', '.')\n",
      "\n",
      "Sentence 43: ('Heat', 'transfer', 'by', 'molecular', 'conduction', 'as', 'well', 'as', 'by', 'radiation', 'from', 'the', 'arc', 'column', '.')\n",
      "\n",
      "Labels 43: ('NOUN', 'NOUN', 'ADP', 'ADJ', 'NOUN', 'ADV', 'ADV', 'ADP', 'ADP', 'NOUN', 'ADP', 'DET', 'NOUN', 'NOUN', '.')\n",
      "\n",
      "Sentence 44: ('Since', 'accurate', 'base', 'maps', 'are', 'necessary', 'for', 'any', 'planning', 'program', ',', 'the', 'first', 'step', 'taken', 'by', 'the', 'planning', 'division', 'to', 'implement', 'the', 'long-range', 'state', 'plan', 'has', 'been', 'to', 'prepare', 'two', 'series', 'of', 'base', 'maps', '--', 'one', 'at', 'a', 'scale', 'of', '1', 'inch', 'to', 'a', 'mile', ',', 'and', 'the', 'second', 'a', 'series', 'of', '26', 'sheets', 'at', 'a', 'scale', 'of', '1', 'inch', 'to', '2000', 'feet', ',', 'covering', 'the', 'entire', 'state', '.')\n",
      "\n",
      "Labels 44: ('ADP', 'ADJ', 'ADJ', 'NOUN', 'VERB', 'ADJ', 'ADP', 'DET', 'VERB', 'NOUN', '.', 'DET', 'ADJ', 'NOUN', 'VERB', 'ADP', 'DET', 'VERB', 'NOUN', 'PRT', 'VERB', 'DET', 'NOUN', 'NOUN', 'NOUN', 'VERB', 'VERB', 'PRT', 'VERB', 'NUM', 'NOUN', 'ADP', 'ADJ', 'NOUN', '.', 'NUM', 'ADP', 'DET', 'NOUN', 'ADP', 'NUM', 'NOUN', 'ADP', 'DET', 'NOUN', '.', 'CONJ', 'DET', 'ADJ', 'DET', 'NOUN', 'ADP', 'NUM', 'NOUN', 'ADP', 'DET', 'NOUN', 'ADP', 'NUM', 'NOUN', 'ADP', 'NUM', 'NOUN', '.', 'VERB', 'DET', 'ADJ', 'NOUN', '.')\n",
      "\n",
      "Sentence 45: ('Hong', 'Kong', ',', 'India', 'and', 'Pakistan', 'have', 'been', 'limiting', 'exports', 'of', 'certain', 'types', 'of', 'textiles', 'to', 'Britain', 'for', 'several', 'years', 'under', 'the', '``', 'Lancashire', 'Pact', \"''\", '.')\n",
      "\n",
      "Labels 45: ('NOUN', 'NOUN', '.', 'NOUN', 'CONJ', 'NOUN', 'VERB', 'VERB', 'VERB', 'NOUN', 'ADP', 'ADJ', 'NOUN', 'ADP', 'NOUN', 'ADP', 'NOUN', 'ADP', 'ADJ', 'NOUN', 'ADP', 'DET', '.', 'NOUN', 'NOUN', '.', '.')\n",
      "\n",
      "Sentence 46: ('One', 'day', 'the', 'dogs', 'of', 'Ireland', 'will', 'do', 'that', 'too', 'and', 'perhaps', 'also', 'the', 'pigs', \"''\", '.')\n",
      "\n",
      "Labels 46: ('NUM', 'NOUN', 'DET', 'NOUN', 'ADP', 'NOUN', 'VERB', 'VERB', 'DET', 'ADV', 'CONJ', 'ADV', 'ADV', 'DET', 'NOUN', '.', '.')\n",
      "\n",
      "Sentence 47: ('The', 'big', 'fans', 'were', 'going', ',', 'drawing', 'from', 'the', 'large', 'room', 'the', 'remnants', 'of', 'stale', 'smoke', 'which', 'drifted', 'about', 'in', 'pale', 'strata', 'underneath', 'the', 'ceiling', '.')\n",
      "\n",
      "Labels 47: ('DET', 'ADJ', 'NOUN', 'VERB', 'VERB', '.', 'VERB', 'ADP', 'DET', 'ADJ', 'NOUN', 'DET', 'NOUN', 'ADP', 'ADJ', 'NOUN', 'DET', 'VERB', 'ADV', 'ADP', 'ADJ', 'NOUN', 'ADP', 'DET', 'NOUN', '.')\n",
      "\n",
      "Sentence 48: ('He', 'had', 'obtained', 'and', 'provisioned', 'a', 'veteran', 'ship', 'called', 'the', 'Discovery', 'and', 'had', 'recruited', 'a', 'crew', 'of', 'twenty-one', ',', 'the', 'largest', 'he', 'had', 'ever', 'commanded', '.')\n",
      "\n",
      "Labels 48: ('PRON', 'VERB', 'VERB', 'CONJ', 'VERB', 'DET', 'ADJ', 'NOUN', 'VERB', 'DET', 'NOUN', 'CONJ', 'VERB', 'VERB', 'DET', 'NOUN', 'ADP', 'NUM', '.', 'DET', 'ADJ', 'PRON', 'VERB', 'ADV', 'VERB', '.')\n",
      "\n",
      "Sentence 49: ('The', 'nuclei', 'of', 'these', 'fibers', ',', 'as', 'is', 'shown', 'in', 'Figures', '3', 'and', '4', ',', 'showed', 'remarkable', 'proliferation', 'and', 'were', 'closely', 'approximated', ',', 'forming', 'a', 'chainlike', 'structure', 'at', 'either', 'the', 'center', 'or', 'the', 'periphery', 'of', 'the', 'fiber', '.')\n",
      "\n",
      "Labels 49: ('DET', 'NOUN', 'ADP', 'DET', 'NOUN', '.', 'ADP', 'VERB', 'VERB', 'ADP', 'NOUN', 'NUM', 'CONJ', 'NUM', '.', 'VERB', 'ADJ', 'NOUN', 'CONJ', 'VERB', 'ADV', 'VERB', '.', 'VERB', 'DET', 'ADJ', 'NOUN', 'ADP', 'CONJ', 'DET', 'NOUN', 'CONJ', 'DET', 'NOUN', 'ADP', 'DET', 'NOUN', '.')\n",
      "\n",
      "Sentence 50: ('The', 'presence', 'of', 'normally', 'occurring', 'bronchial', 'artery-pulmonary', 'artery', 'anastomoses', 'was', 'first', 'noted', 'in', '1721', 'by', 'Ruysch', ',', 'and', 'thereafter', 'by', 'many', 'others', '.')\n",
      "\n",
      "Labels 50: ('DET', 'NOUN', 'ADP', 'ADV', 'VERB', 'ADJ', 'ADJ', 'NOUN', 'NOUN', 'VERB', 'ADV', 'VERB', 'ADP', 'NUM', 'ADP', 'NOUN', '.', 'CONJ', 'ADV', 'ADP', 'ADJ', 'NOUN', '.')\n",
      "\n",
      "Sentence 51: ('Much', 'information', 'has', 'been', 'gathered', 'relative', 'to', 'quantitative', 'sampling', 'and', 'assesment', 'techniques', '.')\n",
      "\n",
      "Labels 51: ('ADJ', 'NOUN', 'VERB', 'VERB', 'VERB', 'ADJ', 'ADP', 'ADJ', 'NOUN', 'CONJ', 'NOUN', 'NOUN', '.')\n",
      "\n",
      "Sentence 52: ('But', 'most', 'disturbing', 'of', 'all', 'were', 'the', 'advisers', 'he', 'called', 'to', 'sit', 'with', 'him', 'in', 'the', 'Palace', ';', ';')\n",
      "\n",
      "Labels 52: ('CONJ', 'ADV', 'ADJ', 'ADP', 'PRT', 'VERB', 'DET', 'NOUN', 'PRON', 'VERB', 'PRT', 'VERB', 'ADP', 'PRON', 'ADP', 'DET', 'NOUN', '.', '.')\n",
      "\n",
      "Sentence 53: ('Precise',)\n",
      "\n",
      "Labels 53: ('ADJ',)\n",
      "\n",
      "Sentence 54: ('This', 'may', 'both', 'divert', 'the', 'attention', 'of', 'the', 'uninitiate', 'and', 'cause', 'confusion', 'for', 'the', 'more', 'knowledgeable', '.')\n",
      "\n",
      "Labels 54: ('DET', 'VERB', 'DET', 'VERB', 'DET', 'NOUN', 'ADP', 'DET', 'NOUN', 'CONJ', 'VERB', 'NOUN', 'ADP', 'DET', 'ADV', 'ADJ', '.')\n",
      "\n",
      "Sentence 55: ('6', '.')\n",
      "\n",
      "Labels 55: ('NUM', '.')\n",
      "\n",
      "Sentence 56: (')', 'Now', 'Af', 'is', 'a', 'diagonalizable', 'operator', 'which', 'is', 'also', 'nilpotent', '.')\n",
      "\n",
      "Labels 56: ('.', 'ADV', 'NOUN', 'VERB', 'DET', 'ADJ', 'NOUN', 'DET', 'VERB', 'ADV', 'ADJ', '.')\n",
      "\n",
      "Sentence 57: ('He', \"don't\", 'care', 'about', 'anybody', '.')\n",
      "\n",
      "Labels 57: ('PRON', 'VERB', 'VERB', 'ADP', 'NOUN', '.')\n",
      "\n",
      "Sentence 58: ('``', 'We', 'have', 'witnessed', 'in', 'this', 'campaign', 'the', 'effort', 'to', 'project', 'Mr.', 'Mitchell', 'as', 'the', 'image', 'of', 'a', 'unity', 'candidate', 'from', 'Washington', '.')\n",
      "\n",
      "Labels 58: ('.', 'PRON', 'VERB', 'VERB', 'ADP', 'DET', 'NOUN', 'DET', 'NOUN', 'PRT', 'VERB', 'NOUN', 'NOUN', 'ADP', 'DET', 'NOUN', 'ADP', 'DET', 'NOUN', 'NOUN', 'ADP', 'NOUN', '.')\n",
      "\n",
      "Sentence 59: ('This', 'was', 'the', 'crassest', 'kind', 'of', 'materialism', 'and', 'they', ',', 'the', 'Artists', ',', 'would', 'have', 'no', 'truck', 'with', 'it', '.')\n",
      "\n",
      "Labels 59: ('DET', 'VERB', 'DET', 'ADJ', 'NOUN', 'ADP', 'NOUN', 'CONJ', 'PRON', '.', 'DET', 'NOUN', '.', 'VERB', 'VERB', 'DET', 'NOUN', 'ADP', 'PRON', '.')\n",
      "\n",
      "Sentence 60: (\"It's\", 'easy', 'to', 'see', 'why', '.')\n",
      "\n",
      "Labels 60: ('PRT', 'ADJ', 'PRT', 'VERB', 'ADV', '.')\n",
      "\n",
      "Sentence 61: ('If', 'you', 'wish', 'to', 'budget', 'closely', 'on', 'transportation', ',', 'saving', 'your', 'extra', 'dollars', 'to', 'indulge', 'in', 'luxuries', ',', 'one', 'agency', 'lists', 'the', 'small', 'Fiat', '500', 'at', 'only', '$1.26', 'a', 'day', 'plus', '$.03', 'a', 'kilometer', 'and', 'the', 'Fiat', '2100', 'Station', 'Wagon', ',', 'seating', 'six', ',', 'at', 'just', '$1.10', 'a', 'day', 'and', '$.105', 'a', 'kilometer', '.')\n",
      "\n",
      "Labels 61: ('ADP', 'PRON', 'VERB', 'PRT', 'VERB', 'ADV', 'ADP', 'NOUN', '.', 'VERB', 'DET', 'ADJ', 'NOUN', 'PRT', 'VERB', 'ADP', 'NOUN', '.', 'NUM', 'NOUN', 'VERB', 'DET', 'ADJ', 'NOUN', 'NUM', 'ADP', 'ADV', 'NOUN', 'DET', 'NOUN', 'CONJ', 'NOUN', 'DET', 'NOUN', 'CONJ', 'DET', 'NOUN', 'NUM', 'NOUN', 'NOUN', '.', 'VERB', 'NUM', '.', 'ADP', 'ADV', 'NOUN', 'DET', 'NOUN', 'CONJ', 'NOUN', 'DET', 'NOUN', '.')\n",
      "\n",
      "Sentence 62: ('``', 'The', \"kid's\", 'froze', 'good', '.')\n",
      "\n",
      "Labels 62: ('.', 'DET', 'PRT', 'VERB', 'ADV', '.')\n",
      "\n",
      "Sentence 63: ('But', 'how', 'can', 'one', 'figure', 'symbolize', 'both', '?', '?')\n",
      "\n",
      "Labels 63: ('CONJ', 'ADV', 'VERB', 'NUM', 'VERB', 'VERB', 'DET', '.', '.')\n",
      "\n",
      "Sentence 64: ('Thus', 'when', 'Premier', 'Khrushchev', 'intimated', 'even', 'before', 'inauguration', 'that', 'he', 'hoped', 'for', 'an', 'early', 'meeting', 'with', 'the', 'new', 'President', ',', 'Mr.', 'Kennedy', 'was', 'confronted', 'with', 'a', 'delicate', 'problem', '.')\n",
      "\n",
      "Labels 64: ('ADV', 'ADV', 'NOUN', 'NOUN', 'VERB', 'ADV', 'ADP', 'NOUN', 'ADP', 'PRON', 'VERB', 'ADP', 'DET', 'ADJ', 'NOUN', 'ADP', 'DET', 'ADJ', 'NOUN', '.', 'NOUN', 'NOUN', 'VERB', 'VERB', 'ADP', 'DET', 'ADJ', 'NOUN', '.')\n",
      "\n",
      "Sentence 65: ('These', 'are', 'as', 'follows', ':', '(', '1', ')', 'field', 'work', 'procedures', '.')\n",
      "\n",
      "Labels 65: ('DET', 'VERB', 'ADV', 'VERB', '.', '.', 'NUM', '.', 'NOUN', 'NOUN', 'NOUN', '.')\n",
      "\n",
      "Sentence 66: ('Felix', 'Kopstein', 'states', 'that', '``', 'when', 'the', 'snake', 'reaches', 'its', 'maturity', 'it', 'has', 'already', 'reached', 'about', 'its', 'maximal', 'length', \"''\", ',', 'but', 'goes', 'on', 'to', 'cite', 'the', 'reticulate', 'python', 'as', 'an', 'exception', ',', 'with', 'maximum', 'length', 'approximately', 'three', 'times', 'that', 'at', 'maturity', '.')\n",
      "\n",
      "Labels 66: ('NOUN', 'NOUN', 'VERB', 'ADP', '.', 'ADV', 'DET', 'NOUN', 'VERB', 'DET', 'NOUN', 'PRON', 'VERB', 'ADV', 'VERB', 'ADV', 'DET', 'ADJ', 'NOUN', '.', '.', 'CONJ', 'VERB', 'PRT', 'PRT', 'VERB', 'DET', 'ADJ', 'NOUN', 'ADP', 'DET', 'NOUN', '.', 'ADP', 'ADJ', 'NOUN', 'ADV', 'NUM', 'NOUN', 'DET', 'ADP', 'NOUN', '.')\n",
      "\n",
      "Sentence 67: ('He', 'went', 'around', 'the', 'corner', 'and', 'parked', ',', 'turning', 'off', 'his', 'lights', 'and', 'motor', '.')\n",
      "\n",
      "Labels 67: ('PRON', 'VERB', 'ADP', 'DET', 'NOUN', 'CONJ', 'VERB', '.', 'VERB', 'PRT', 'DET', 'NOUN', 'CONJ', 'NOUN', '.')\n",
      "\n",
      "Sentence 68: ('If', 'she', 'could', 'not', 'take', 'the', 'children', 'out', 'of', 'this', 'section', ',', 'at', 'least', 'she', 'could', 'take', 'other', 'children', 'out', 'of', 'their', 'countries', 'and', 'put', 'them', 'on', 'the', 'farms', '.')\n",
      "\n",
      "Labels 68: ('ADP', 'PRON', 'VERB', 'ADV', 'VERB', 'DET', 'NOUN', 'ADP', 'ADP', 'DET', 'NOUN', '.', 'ADP', 'ADJ', 'PRON', 'VERB', 'VERB', 'ADJ', 'NOUN', 'ADP', 'ADP', 'DET', 'NOUN', 'CONJ', 'VERB', 'PRON', 'ADP', 'DET', 'NOUN', '.')\n",
      "\n",
      "Sentence 69: ('Under', 'its', 'plan', 'Du', 'Pont', 'would', 'retain', 'its', 'General', 'Motors', 'shares', 'but', 'be', 'required', 'to', 'pass', 'on', 'to', 'its', 'stockholders', 'the', 'right', 'to', 'vote', 'those', 'shares', '.')\n",
      "\n",
      "Labels 69: ('ADP', 'DET', 'NOUN', 'NOUN', 'NOUN', 'VERB', 'VERB', 'DET', 'NOUN', 'NOUN', 'NOUN', 'CONJ', 'VERB', 'VERB', 'PRT', 'VERB', 'PRT', 'ADP', 'DET', 'NOUN', 'DET', 'NOUN', 'PRT', 'VERB', 'DET', 'NOUN', '.')\n",
      "\n",
      "Sentence 70: ('his', 'eyes', 'were', 'black', 'and', 'deep-set', ',', 'and', 'expressionless', '.')\n",
      "\n",
      "Labels 70: ('DET', 'NOUN', 'VERB', 'ADJ', 'CONJ', 'ADJ', '.', 'CONJ', 'ADJ', '.')\n",
      "\n",
      "Sentence 71: ('It', 'is', 'one', 'of', 'the', 'very', 'few', ',', 'if', 'not', 'the', 'only', 'surviving', 'bridge', 'of', 'its', 'type', 'to', 'serve', 'a', 'main', 'artery', 'of', 'the', 'U.S.', 'highway', 'system', ',', 'thus', 'it', 'is', 'far', 'more', 'than', 'a', 'relic', 'of', 'the', 'horse', 'and', 'buggy', 'days', '.')\n",
      "\n",
      "Labels 71: ('PRON', 'VERB', 'NUM', 'ADP', 'DET', 'ADV', 'ADJ', '.', 'ADP', 'ADV', 'DET', 'ADJ', 'VERB', 'NOUN', 'ADP', 'DET', 'NOUN', 'PRT', 'VERB', 'DET', 'ADJ', 'NOUN', 'ADP', 'DET', 'NOUN', 'NOUN', 'NOUN', '.', 'ADV', 'PRON', 'VERB', 'ADV', 'ADJ', 'ADP', 'DET', 'NOUN', 'ADP', 'DET', 'NOUN', 'CONJ', 'NOUN', 'NOUN', '.')\n",
      "\n",
      "Sentence 72: ('The', 'promise', 'that', 'the', 'lion', 'and', 'the', 'lamb', 'will', 'lie', 'down', 'together', 'was', 'given', 'in', 'the', 'future', 'tense', '.')\n",
      "\n",
      "Labels 72: ('DET', 'NOUN', 'ADP', 'DET', 'NOUN', 'CONJ', 'DET', 'NOUN', 'VERB', 'VERB', 'PRT', 'ADV', 'VERB', 'VERB', 'ADP', 'DET', 'ADJ', 'NOUN', '.')\n",
      "\n",
      "Sentence 73: ('``', 'But', \"that's\", 'what', 'he', 'told', 'me', '.')\n",
      "\n",
      "Labels 73: ('.', 'CONJ', 'PRT', 'DET', 'PRON', 'VERB', 'PRON', '.')\n",
      "\n",
      "Sentence 74: ('The', 'common', 'spices', ',', 'flavorings', ',', 'and', 'condiments', 'make', 'up', 'this', 'group', '.')\n",
      "\n",
      "Labels 74: ('DET', 'ADJ', 'NOUN', '.', 'NOUN', '.', 'CONJ', 'NOUN', 'VERB', 'PRT', 'DET', 'NOUN', '.')\n",
      "\n",
      "Sentence 75: ('The', 'values', 'and', 'talents', 'which', 'made', 'the', 'tile', 'and', 'the', 'dome', ',', 'the', 'rug', ',', 'the', 'poem', 'and', 'the', 'miniature', ',', 'continue', 'in', 'certain', 'social', 'institutions', 'which', 'rise', 'above', 'the', 'ordinary', 'life', 'of', 'this', 'city', ',', 'as', 'the', 'great', 'buildings', 'rise', 'above', 'blank', 'walls', 'and', 'dirty', 'lanes', '.')\n",
      "\n",
      "Labels 75: ('DET', 'NOUN', 'CONJ', 'NOUN', 'DET', 'VERB', 'DET', 'NOUN', 'CONJ', 'DET', 'NOUN', '.', 'DET', 'NOUN', '.', 'DET', 'NOUN', 'CONJ', 'DET', 'NOUN', '.', 'VERB', 'ADP', 'ADJ', 'ADJ', 'NOUN', 'DET', 'VERB', 'ADP', 'DET', 'ADJ', 'NOUN', 'ADP', 'DET', 'NOUN', '.', 'ADP', 'DET', 'ADJ', 'NOUN', 'VERB', 'ADP', 'ADJ', 'NOUN', 'CONJ', 'ADJ', 'NOUN', '.')\n",
      "\n",
      "Sentence 76: ('But', 'do', 'the', 'plays', 'deal', 'with', 'the', 'same', 'facets', 'of', 'experience', 'religion', 'must', 'also', 'deal', 'with', '?', '?')\n",
      "\n",
      "Labels 76: ('CONJ', 'VERB', 'DET', 'NOUN', 'VERB', 'ADP', 'DET', 'ADJ', 'NOUN', 'ADP', 'NOUN', 'NOUN', 'VERB', 'ADV', 'VERB', 'ADP', '.', '.')\n",
      "\n",
      "Sentence 77: ('Called', 'Perennian', ',', 'to', 'indicate', 'its', 'lasting', ',', 'good', 'today', 'and', 'tomorrow', 'quality', ',', 'the', 'collection', 'truly', 'avoids', 'the', 'monotony', 'of', 'identical', 'pieces', '.')\n",
      "\n",
      "Labels 77: ('VERB', 'ADJ', '.', 'PRT', 'VERB', 'DET', 'VERB', '.', 'ADJ', 'NOUN', 'CONJ', 'NOUN', 'NOUN', '.', 'DET', 'NOUN', 'ADV', 'VERB', 'DET', 'NOUN', 'ADP', 'ADJ', 'NOUN', '.')\n",
      "\n",
      "Sentence 78: ('It', 'had', 'a', \"gourmet's\", 'corner', '(', 'instead', 'of', 'a', 'kitchen', ')', ',', 'a', 'breakfast', 'room', ',', 'a', 'luncheon', 'room', ',', 'a', 'dining', 'room', ',', 'a', 'sitting', 'room', ',', 'a', 'room', 'for', 'standing', 'up', ',', 'a', 'party', 'room', ',', 'dressing', 'rooms', 'for', 'everybody', ',', 'even', 'a', 'room', 'for', 'mud', '.')\n",
      "\n",
      "Labels 78: ('PRON', 'VERB', 'DET', 'NOUN', 'NOUN', '.', 'ADV', 'ADP', 'DET', 'NOUN', '.', '.', 'DET', 'NOUN', 'NOUN', '.', 'DET', 'NOUN', 'NOUN', '.', 'DET', 'VERB', 'NOUN', '.', 'DET', 'VERB', 'NOUN', '.', 'DET', 'NOUN', 'ADP', 'VERB', 'PRT', '.', 'DET', 'NOUN', 'NOUN', '.', 'VERB', 'NOUN', 'ADP', 'NOUN', '.', 'ADV', 'DET', 'NOUN', 'ADP', 'NOUN', '.')\n",
      "\n",
      "Sentence 79: ('``', 'Few', 'crank', 'calls', \"''\", ',', 'McFeeley', 'said', '.')\n",
      "\n",
      "Labels 79: ('.', 'ADJ', 'NOUN', 'NOUN', '.', '.', 'NOUN', 'VERB', '.')\n",
      "\n",
      "Sentence 80: ('If', 'he', 'does', ',', \"it's\", 'still', 'better', 'than', 'an', 'even', 'chance', 'he', \"won't\", 'notice', 'the', 'transposition', 'of', 'the', 'numbers', ',', 'and', 'if', 'he', 'should', 'notice', 'it', ',', 'the', 'thing', 'can', 'be', 'passed', 'off', 'as', 'an', 'honest', 'mistake', '.')\n",
      "\n",
      "Labels 80: ('ADP', 'PRON', 'VERB', '.', 'PRT', 'ADV', 'ADJ', 'ADP', 'DET', 'ADJ', 'NOUN', 'PRON', 'VERB', 'VERB', 'DET', 'NOUN', 'ADP', 'DET', 'NOUN', '.', 'CONJ', 'ADP', 'PRON', 'VERB', 'VERB', 'PRON', '.', 'DET', 'NOUN', 'VERB', 'VERB', 'VERB', 'PRT', 'ADP', 'DET', 'ADJ', 'NOUN', '.')\n",
      "\n",
      "Sentence 81: ('The', 'most', 'infamous', 'of', 'all', 'was', 'launched', 'by', 'the', 'explosion', 'of', 'the', 'island', 'of', 'Krakatoa', 'in', '1883', ';', ';')\n",
      "\n",
      "Labels 81: ('DET', 'ADV', 'ADJ', 'ADP', 'PRT', 'VERB', 'VERB', 'ADP', 'DET', 'NOUN', 'ADP', 'DET', 'NOUN', 'ADP', 'NOUN', 'ADP', 'NUM', '.', '.')\n",
      "\n",
      "Sentence 82: ('What', 'about', 'transfers', '?', '?')\n",
      "\n",
      "Labels 82: ('DET', 'ADP', 'NOUN', '.', '.')\n",
      "\n",
      "Sentence 83: ('This', 'angle', 'of', 'just', 'where', 'the', 'Orioles', 'can', 'look', 'for', 'improvement', 'this', 'year', 'is', 'an', 'interesting', 'one', '.')\n",
      "\n",
      "Labels 83: ('DET', 'NOUN', 'ADP', 'ADV', 'ADV', 'DET', 'NOUN', 'VERB', 'VERB', 'ADP', 'NOUN', 'DET', 'NOUN', 'VERB', 'DET', 'ADJ', 'NUM', '.')\n",
      "\n",
      "Sentence 84: (')',)\n",
      "\n",
      "Labels 84: ('.',)\n",
      "\n",
      "Sentence 85: ('Under', 'the', 'influence', 'of', 'marijuana', 'the', 'beatnik', 'comes', 'alive', 'within', 'and', 'experiences', 'a', 'wonderfully', 'enhanced', 'sense', 'of', 'self', 'as', 'if', 'he', 'had', 'discovered', 'the', 'open', 'sesame', 'to', 'the', 'universe', 'of', 'being', '.')\n",
      "\n",
      "Labels 85: ('ADP', 'DET', 'NOUN', 'ADP', 'NOUN', 'DET', 'NOUN', 'VERB', 'ADJ', 'ADP', 'CONJ', 'VERB', 'DET', 'ADV', 'VERB', 'NOUN', 'ADP', 'NOUN', 'ADP', 'ADP', 'PRON', 'VERB', 'VERB', 'DET', 'ADJ', 'NOUN', 'ADP', 'DET', 'NOUN', 'ADP', 'VERB', '.')\n",
      "\n",
      "Sentence 86: ('She', 'asked', 'him', 'and', ',', 'laughing', ',', 'she', 'added', ',', '``', 'I', 'was', 'nervous', 'about', 'buying', 'a', 'book', 'with', 'a', 'title', 'like', 'that', ',', 'but', 'I', 'knew', \"you'd\", 'like', 'it', \"''\", '.')\n",
      "\n",
      "Labels 86: ('PRON', 'VERB', 'PRON', 'CONJ', '.', 'VERB', '.', 'PRON', 'VERB', '.', '.', 'PRON', 'VERB', 'ADJ', 'ADP', 'VERB', 'DET', 'NOUN', 'ADP', 'DET', 'NOUN', 'ADP', 'DET', '.', 'CONJ', 'PRON', 'VERB', 'PRT', 'VERB', 'PRON', '.', '.')\n",
      "\n",
      "Sentence 87: ('At', 'the', 'same', 'moment', 'Wheeler', 'Fiske', 'fired', 'the', 'rifle', 'Mike', 'had', 'given', 'him', 'and', 'another', 'guerrilla', 'was', 'hit', '.')\n",
      "\n",
      "Labels 87: ('ADP', 'DET', 'ADJ', 'NOUN', 'NOUN', 'NOUN', 'VERB', 'DET', 'NOUN', 'NOUN', 'VERB', 'VERB', 'PRON', 'CONJ', 'DET', 'NOUN', 'VERB', 'VERB', '.')\n",
      "\n",
      "Sentence 88: ('``', 'And', 'what', 'makes', 'you', 'think', \"you're\", 'going', 'to', 'get', 'it', ',', 'pretty', 'boy', \"''\", '?', '?')\n",
      "\n",
      "Labels 88: ('.', 'CONJ', 'DET', 'VERB', 'PRON', 'VERB', 'PRT', 'VERB', 'PRT', 'VERB', 'PRON', '.', 'ADJ', 'NOUN', '.', '.', '.')\n",
      "\n",
      "Sentence 89: ('``', 'Certainly', ',', 'sir', \"''\", '.')\n",
      "\n",
      "Labels 89: ('.', 'ADV', '.', 'NOUN', '.', '.')\n",
      "\n",
      "Sentence 90: ('Later', ',', 'riding', 'in', 'for', 'some', 'lusty', 'enjoyment', 'of', 'the', 'liquor', 'and', 'professional', 'ladies', 'of', 'Cheyenne', ',', 'he', 'laid', 'claim', 'to', 'the', 'killing', 'with', 'the', 'vague', 'insinuations', 'he', 'made', '.')\n",
      "\n",
      "Labels 90: ('ADV', '.', 'VERB', 'PRT', 'ADP', 'DET', 'ADJ', 'NOUN', 'ADP', 'DET', 'NOUN', 'CONJ', 'ADJ', 'NOUN', 'ADP', 'NOUN', '.', 'PRON', 'VERB', 'NOUN', 'ADP', 'DET', 'NOUN', 'ADP', 'DET', 'ADJ', 'NOUN', 'PRON', 'VERB', '.')\n",
      "\n",
      "Sentence 91: ('It', 'was', 'said', 'that', 'the', 'Hetman', 'plotted', 'to', 'take', 'over', 'the', 'entire', 'Hearst', 'newspaper', 'empire', 'one', 'day', 'by', 'means', 'of', 'various', 'coups', ':', 'the', 'destruction', 'of', 'editors', 'who', 'tried', 'to', 'halt', 'his', 'course', ',', 'the', 'unfrocking', 'of', 'publishers', 'whose', 'mistakes', 'of', 'judgment', 'might', 'be', 'magnified', 'in', 'secret', 'reports', 'to', 'Mr.', 'Hearst', '.')\n",
      "\n",
      "Labels 91: ('PRON', 'VERB', 'VERB', 'ADP', 'DET', 'NOUN', 'VERB', 'PRT', 'VERB', 'PRT', 'DET', 'ADJ', 'NOUN', 'NOUN', 'NOUN', 'NUM', 'NOUN', 'ADP', 'NOUN', 'ADP', 'ADJ', 'NOUN', '.', 'DET', 'NOUN', 'ADP', 'NOUN', 'PRON', 'VERB', 'PRT', 'VERB', 'DET', 'NOUN', '.', 'DET', 'NOUN', 'ADP', 'NOUN', 'DET', 'NOUN', 'ADP', 'NOUN', 'VERB', 'VERB', 'VERB', 'ADP', 'ADJ', 'NOUN', 'ADP', 'NOUN', 'NOUN', '.')\n",
      "\n",
      "Sentence 92: ('Mama', 'always', 'felt', 'that', 'the', 'collection', 'symbolized', 'Mrs.', \"Coolidge's\", 'wish', 'for', 'a', 'little', 'girl', '.')\n",
      "\n",
      "Labels 92: ('NOUN', 'ADV', 'VERB', 'ADP', 'DET', 'NOUN', 'VERB', 'NOUN', 'NOUN', 'NOUN', 'ADP', 'DET', 'ADJ', 'NOUN', '.')\n",
      "\n",
      "Sentence 93: ('We', 'would', 'have', 'preferred', ',', 'however', ',', 'to', 'have', 'had', 'the', 'rest', 'of', 'the', 'orchestra', 'refrain', 'from', 'laughing', 'at', 'this', 'and', 'other', 'spots', 'on', 'the', 'recording', ',', 'since', 'it', 'mars', 'an', 'otherwise', 'sober', ',', 'if', 'not', 'lofty', ',', 'performance', '.')\n",
      "\n",
      "Labels 93: ('PRON', 'VERB', 'VERB', 'VERB', '.', 'ADV', '.', 'PRT', 'VERB', 'VERB', 'DET', 'NOUN', 'ADP', 'DET', 'NOUN', 'VERB', 'ADP', 'VERB', 'ADP', 'DET', 'CONJ', 'ADJ', 'NOUN', 'ADP', 'DET', 'NOUN', '.', 'ADP', 'PRON', 'VERB', 'DET', 'ADV', 'ADJ', '.', 'ADP', 'ADV', 'ADJ', '.', 'NOUN', '.')\n",
      "\n",
      "Sentence 94: ('Their', 'burgeoning', 'popularity', 'may', 'be', 'a', 'result', 'of', 'the', 'closing', 'of', 'the', '52nd', 'Street', 'burlesque', 'joints', ',', 'but', 'curiously', 'enough', 'their', 'atmosphere', 'is', 'almost', 'always', 'familial', '--', 'neighborhood', 'saloons', 'with', 'a', 'bit', 'of', 'epidermis', '.')\n",
      "\n",
      "Labels 94: ('DET', 'VERB', 'NOUN', 'VERB', 'VERB', 'DET', 'NOUN', 'ADP', 'DET', 'NOUN', 'ADP', 'DET', 'ADJ', 'NOUN', 'NOUN', 'NOUN', '.', 'CONJ', 'ADV', 'ADV', 'DET', 'NOUN', 'VERB', 'ADV', 'ADV', 'ADJ', '.', 'NOUN', 'NOUN', 'ADP', 'DET', 'NOUN', 'ADP', 'NOUN', '.')\n",
      "\n",
      "Sentence 95: ('He', 'swung', 'around', ',', 'eyes', 'toward', 'the', 'bedroom', ',', 'some', 'fifteen', 'feet', 'away', '.')\n",
      "\n",
      "Labels 95: ('PRON', 'VERB', 'ADV', '.', 'NOUN', 'ADP', 'DET', 'NOUN', '.', 'DET', 'NUM', 'NOUN', 'ADV', '.')\n",
      "\n",
      "Sentence 96: ('It', 'is', 'possible', 'that', 'certain', 'mutational', 'forms', 'may', 'be', 'produced', 'such', 'as', 'antibiotic', 'resistant', 'strains', '.')\n",
      "\n",
      "Labels 96: ('PRON', 'VERB', 'ADJ', 'ADP', 'ADJ', 'ADJ', 'NOUN', 'VERB', 'VERB', 'VERB', 'ADJ', 'ADP', 'NOUN', 'ADJ', 'NOUN', '.')\n",
      "\n",
      "Sentence 97: ('Few', 'passed', \"''\", '.')\n",
      "\n",
      "Labels 97: ('ADJ', 'VERB', '.', '.')\n",
      "\n",
      "Sentence 98: ('An', 'examination', 'of', 'some', 'forty', 'catalogs', 'of', 'schools', 'offering', 'courses', 'in', 'interior', 'design', ',', 'for', 'the', 'most', 'part', 'schools', 'accredited', 'by', 'membership', 'in', 'the', 'National', 'Association', 'of', 'Schools', 'of', 'Art', ',', 'and', 'a', 'further', '``', 'on', 'the', 'spot', \"''\", 'inspection', 'of', 'a', 'number', 'of', 'schools', ',', 'show', 'their', 'courses', 'adhere', 'pretty', 'closely', 'to', 'the', 'recommendations', '.')\n",
      "\n",
      "Labels 98: ('DET', 'NOUN', 'ADP', 'DET', 'NUM', 'NOUN', 'ADP', 'NOUN', 'VERB', 'NOUN', 'ADP', 'ADJ', 'NOUN', '.', 'ADP', 'DET', 'ADJ', 'NOUN', 'NOUN', 'VERB', 'ADP', 'NOUN', 'ADP', 'DET', 'ADJ', 'NOUN', 'ADP', 'NOUN', 'ADP', 'NOUN', '.', 'CONJ', 'DET', 'ADJ', '.', 'ADP', 'DET', 'NOUN', '.', 'NOUN', 'ADP', 'DET', 'NOUN', 'ADP', 'NOUN', '.', 'VERB', 'DET', 'NOUN', 'VERB', 'ADV', 'ADV', 'ADP', 'DET', 'NOUN', '.')\n",
      "\n",
      "Sentence 99: ('It', 'changes', 'the', 'answers', 'to', '``', 'Who', 'should', 'do', 'what', ',', 'and', 'where', \"''\", '?', '?')\n",
      "\n",
      "Labels 99: ('PRON', 'VERB', 'DET', 'NOUN', 'ADP', '.', 'PRON', 'VERB', 'VERB', 'DET', '.', 'CONJ', 'ADV', '.', '.', '.')\n",
      "\n",
      "Sentence 100: ('the', 'clay', 'he', 'used', 'plastically', 'to', 'suggest', 'soft', 'moving', 'flesh', ',', 'as', 'in', 'an', 'abdomen', ',', 'in', 'a', 'reclining', 'torso', ';', ';')\n",
      "\n",
      "Labels 100: ('DET', 'NOUN', 'PRON', 'VERB', 'ADV', 'PRT', 'VERB', 'ADJ', 'VERB', 'NOUN', '.', 'ADP', 'ADP', 'DET', 'NOUN', '.', 'ADP', 'DET', 'VERB', 'NOUN', '.', '.')\n",
      "\n"
     ]
    }
   ],
   "source": [
    "# accessing words with Dataset.X and tags with Dataset.Y \n",
    "for i in range(100):    \n",
    "    print(\"Sentence {}:\".format(i + 1), data.X[i])\n",
    "    print()\n",
    "    print(\"Labels {}:\".format(i + 1), data.Y[i])\n",
    "    print()"
   ]
  },
  {
   "cell_type": "markdown",
   "metadata": {},
   "source": [
    "#### Accessing (word, tag) Samples\n",
    "The `Dataset.stream()` method returns an iterator that chains together every pair of (word, tag) entries across all sentences in the entire corpus."
   ]
  },
  {
   "cell_type": "code",
   "execution_count": 65,
   "metadata": {},
   "outputs": [
    {
     "name": "stdout",
     "output_type": "stream",
     "text": [
      "\n",
      "Stream (word, tag) pairs:\n",
      "\n",
      "\t ('Mr.', 'NOUN')\n",
      "\t ('Podger', 'NOUN')\n",
      "\t ('had', 'VERB')\n",
      "\t ('thanked', 'VERB')\n",
      "\t ('him', 'PRON')\n",
      "\t ('gravely', 'ADV')\n",
      "\t (',', '.')\n"
     ]
    }
   ],
   "source": [
    "# use Dataset.stream() (word, tag) samples for the entire corpus\n",
    "print(\"\\nStream (word, tag) pairs:\\n\")\n",
    "for i, pair in enumerate(data.stream()):\n",
    "    print(\"\\t\", pair)\n",
    "    if i > 5: break"
   ]
  },
  {
   "cell_type": "markdown",
   "metadata": {},
   "source": [
    "\n",
    "For both our baseline tagger and the HMM model we'll build, we need to estimate the frequency of tags & words from the frequency counts of observations in the training corpus. In the next several cells you will complete functions to compute the counts of several sets of counts. "
   ]
  },
  {
   "cell_type": "markdown",
   "metadata": {},
   "source": [
    "## Step 2: Build a Most Frequent Class tagger\n",
    "---\n",
    "\n",
    "Perhaps the simplest tagger (and a good baseline for tagger performance) is to simply choose the tag most frequently assigned to each word. This \"most frequent class\" tagger inspects each observed word in the sequence and assigns it the label that was most often assigned to that word in the corpus."
   ]
  },
  {
   "cell_type": "markdown",
   "metadata": {},
   "source": [
    "### IMPLEMENTATION: Pair Counts\n",
    "\n",
    "Complete the function below that computes the joint frequency counts for two input sequences."
   ]
  },
  {
   "cell_type": "code",
   "execution_count": 88,
   "metadata": {},
   "outputs": [
    {
     "data": {
      "text/html": [
       "<div class=\"alert alert-block alert-success\">Your emission counts look good!</div>"
      ],
      "text/plain": [
       "<IPython.core.display.HTML object>"
      ]
     },
     "execution_count": 88,
     "metadata": {},
     "output_type": "execute_result"
    }
   ],
   "source": [
    "def pair_counts(sequences_A, sequences_B):\n",
    "    \"\"\"Return a dictionary keyed to each unique value in the first sequence list\n",
    "    that counts the number of occurrences of the corresponding value from the\n",
    "    second sequences list.\n",
    "    \n",
    "    For example, if sequences_A is tags and sequences_B is the corresponding\n",
    "    words, then if 1244 sequences contain the word \"time\" tagged as a NOUN, then\n",
    "    you should return a dictionary such that pair_counts[NOUN][time] == 1244\n",
    "    \"\"\"\n",
    "    # TODO: Finish this function!\n",
    "    #raise NotImplementedError\n",
    "    \n",
    "    pair_count = {}\n",
    "    \n",
    "    for i in range(len(sequences_A)):\n",
    "        for word, tag in zip(sequences_A[i], sequences_B[i]):\n",
    "            if tag not in pair_count:\n",
    "                pair_count[tag] = {}\n",
    "                pair_count[tag][word] = 1\n",
    "            else:\n",
    "                pair_count[tag][word] = pair_count[tag].get(word, 0) + 1\n",
    "    return pair_count\n",
    "\n",
    "# Calculate C(t_i, w_i)\n",
    "emission_counts = pair_counts(data.X, data.Y)\n",
    "\n",
    "assert len(emission_counts) == 12, \\\n",
    "       \"Uh oh. There should be 12 tags in your dictionary.\"\n",
    "assert max(emission_counts[\"NOUN\"], key=emission_counts[\"NOUN\"].get) == 'time', \\\n",
    "       \"Hmmm...'time' is expected to be the most common NOUN.\"\n",
    "HTML('<div class=\"alert alert-block alert-success\">Your emission counts look good!</div>')"
   ]
  },
  {
   "cell_type": "markdown",
   "metadata": {},
   "source": [
    "### IMPLEMENTATION: Most Frequent Class Tagger\n",
    "\n",
    "Use the `pair_counts()` function and the training dataset to find the most frequent class label for each word in the training data, and populate the `mfc_table` below. The table keys should be words, and the values should be the appropriate tag string.\n",
    "\n",
    "The `MFCTagger` class is provided to mock the interface of Pomegranite HMM models so that they can be used interchangeably."
   ]
  },
  {
   "cell_type": "code",
   "execution_count": null,
   "metadata": {
    "collapsed": true
   },
   "outputs": [],
   "source": [
    "# Create a lookup table mfc_table where mfc_table[word] contains the tag label most frequently assigned to that word\n",
    "from collections import namedtuple\n",
    "\n",
    "FakeState = namedtuple(\"FakeState\", \"name\")\n",
    "\n",
    "class MFCTagger:\n",
    "    # NOTE: You should not need to modify this class or any of its methods\n",
    "    missing = FakeState(name=\"<MISSING>\")\n",
    "    \n",
    "    def __init__(self, table):\n",
    "        self.table = defaultdict(lambda: MFCTagger.missing)\n",
    "        self.table.update({word: FakeState(name=tag) for word, tag in table.items()})\n",
    "        \n",
    "    def viterbi(self, seq):\n",
    "        \"\"\"This method simplifies predictions by matching the Pomegranate viterbi() interface\"\"\"\n",
    "        return 0., list(enumerate([\"<start>\"] + [self.table[w] for w in seq] + [\"<end>\"]))\n",
    "\n",
    "\n",
    "# TODO: calculate the frequency of each tag being assigned to each word (hint: similar, but not\n",
    "# the same as the emission probabilities) and use it to fill the mfc_table\n",
    "\n",
    "word_counts = pair_counts(# TODO: YOUR CODE HERE)\n",
    "\n",
    "mfc_table = # TODO: YOUR CODE HERE\n",
    "\n",
    "# DO NOT MODIFY BELOW THIS LINE\n",
    "mfc_model = MFCTagger(mfc_table) # Create a Most Frequent Class tagger instance\n",
    "\n",
    "assert len(mfc_table) == len(data.training_set.vocab), \"\"\n",
    "assert all(k in data.training_set.vocab for k in mfc_table.keys()), \"\"\n",
    "assert sum(int(k not in mfc_table) for k in data.testing_set.vocab) == 5521, \"\"\n",
    "HTML('<div class=\"alert alert-block alert-success\">Your MFC tagger has all the correct words!</div>')"
   ]
  },
  {
   "cell_type": "markdown",
   "metadata": {},
   "source": [
    "### Making Predictions with a Model\n",
    "The helper functions provided below interface with Pomegranate network models & the mocked MFCTagger to take advantage of the [missing value](http://pomegranate.readthedocs.io/en/latest/nan.html) functionality in Pomegranate through a simple sequence decoding function. Run these functions, then run the next cell to see some of the predictions made by the MFC tagger."
   ]
  },
  {
   "cell_type": "code",
   "execution_count": null,
   "metadata": {
    "collapsed": true
   },
   "outputs": [],
   "source": [
    "def replace_unknown(sequence):\n",
    "    \"\"\"Return a copy of the input sequence where each unknown word is replaced\n",
    "    by the literal string value 'nan'. Pomegranate will ignore these values\n",
    "    during computation.\n",
    "    \"\"\"\n",
    "    return [w if w in data.training_set.vocab else 'nan' for w in sequence]\n",
    "\n",
    "def simplify_decoding(X, model):\n",
    "    \"\"\"X should be a 1-D sequence of observations for the model to predict\"\"\"\n",
    "    _, state_path = model.viterbi(replace_unknown(X))\n",
    "    return [state[1].name for state in state_path[1:-1]]  # do not show the start/end state predictions"
   ]
  },
  {
   "cell_type": "markdown",
   "metadata": {},
   "source": [
    "### Example Decoding Sequences with MFC Tagger"
   ]
  },
  {
   "cell_type": "code",
   "execution_count": null,
   "metadata": {
    "collapsed": true
   },
   "outputs": [],
   "source": [
    "for key in data.testing_set.keys[:3]:\n",
    "    print(\"Sentence Key: {}\\n\".format(key))\n",
    "    print(\"Predicted labels:\\n-----------------\")\n",
    "    print(simplify_decoding(data.sentences[key].words, mfc_model))\n",
    "    print()\n",
    "    print(\"Actual labels:\\n--------------\")\n",
    "    print(data.sentences[key].tags)\n",
    "    print(\"\\n\")"
   ]
  },
  {
   "cell_type": "markdown",
   "metadata": {},
   "source": [
    "### Evaluating Model Accuracy\n",
    "\n",
    "The function below will evaluate the accuracy of the MFC tagger on the collection of all sentences from a text corpus. "
   ]
  },
  {
   "cell_type": "code",
   "execution_count": null,
   "metadata": {
    "collapsed": true
   },
   "outputs": [],
   "source": [
    "def accuracy(X, Y, model):\n",
    "    \"\"\"Calculate the prediction accuracy by using the model to decode each sequence\n",
    "    in the input X and comparing the prediction with the true labels in Y.\n",
    "    \n",
    "    The X should be an array whose first dimension is the number of sentences to test,\n",
    "    and each element of the array should be an iterable of the words in the sequence.\n",
    "    The arrays X and Y should have the exact same shape.\n",
    "    \n",
    "    X = [(\"See\", \"Spot\", \"run\"), (\"Run\", \"Spot\", \"run\", \"fast\"), ...]\n",
    "    Y = [(), (), ...]\n",
    "    \"\"\"\n",
    "    correct = total_predictions = 0\n",
    "    for observations, actual_tags in zip(X, Y):\n",
    "        \n",
    "        # The model.viterbi call in simplify_decoding will return None if the HMM\n",
    "        # raises an error (for example, if a test sentence contains a word that\n",
    "        # is out of vocabulary for the training set). Any exception counts the\n",
    "        # full sentence as an error (which makes this a conservative estimate).\n",
    "        try:\n",
    "            most_likely_tags = simplify_decoding(observations, model)\n",
    "            correct += sum(p == t for p, t in zip(most_likely_tags, actual_tags))\n",
    "        except:\n",
    "            pass\n",
    "        total_predictions += len(observations)\n",
    "    return correct / total_predictions"
   ]
  },
  {
   "cell_type": "markdown",
   "metadata": {},
   "source": [
    "#### Evaluate the accuracy of the MFC tagger\n",
    "Run the next cell to evaluate the accuracy of the tagger on the training and test corpus."
   ]
  },
  {
   "cell_type": "code",
   "execution_count": null,
   "metadata": {
    "collapsed": true
   },
   "outputs": [],
   "source": [
    "mfc_training_acc = accuracy(data.training_set.X, data.training_set.Y, mfc_model)\n",
    "print(\"training accuracy mfc_model: {:.2f}%\".format(100 * mfc_training_acc))\n",
    "\n",
    "mfc_testing_acc = accuracy(data.testing_set.X, data.testing_set.Y, mfc_model)\n",
    "print(\"testing accuracy mfc_model: {:.2f}%\".format(100 * mfc_testing_acc))\n",
    "\n",
    "assert mfc_training_acc >= 0.955, \"Uh oh. Your MFC accuracy on the training set doesn't look right.\"\n",
    "assert mfc_testing_acc >= 0.925, \"Uh oh. Your MFC accuracy on the testing set doesn't look right.\"\n",
    "HTML('<div class=\"alert alert-block alert-success\">Your MFC tagger accuracy looks correct!</div>')"
   ]
  },
  {
   "cell_type": "markdown",
   "metadata": {},
   "source": [
    "## Step 3: Build an HMM tagger\n",
    "---\n",
    "The HMM tagger has one hidden state for each possible tag, and parameterized by two distributions: the emission probabilties giving the conditional probability of observing a given **word** from each hidden state, and the transition probabilities giving the conditional probability of moving between **tags** during the sequence.\n",
    "\n",
    "We will also estimate the starting probability distribution (the probability of each **tag** being the first tag in a sequence), and the terminal probability distribution (the probability of each **tag** being the last tag in a sequence).\n",
    "\n",
    "The maximum likelihood estimate of these distributions can be calculated from the frequency counts as described in the following sections where you'll implement functions to count the frequencies, and finally build the model. The HMM model will make predictions according to the formula:\n",
    "\n",
    "$$t_i^n = \\underset{t_i^n}{\\mathrm{argmax}} \\prod_{i=1}^n P(w_i|t_i) P(t_i|t_{i-1})$$\n",
    "\n",
    "Refer to Speech & Language Processing [Chapter 10](https://web.stanford.edu/~jurafsky/slp3/10.pdf) for more information."
   ]
  },
  {
   "cell_type": "markdown",
   "metadata": {},
   "source": [
    "### IMPLEMENTATION: Unigram Counts\n",
    "\n",
    "Complete the function below to estimate the co-occurrence frequency of each symbol over all of the input sequences. The unigram probabilities in our HMM model are estimated from the formula below, where N is the total number of samples in the input. (You only need to compute the counts for now.)\n",
    "\n",
    "$$P(tag_1) = \\frac{C(tag_1)}{N}$$"
   ]
  },
  {
   "cell_type": "code",
   "execution_count": null,
   "metadata": {
    "collapsed": true
   },
   "outputs": [],
   "source": [
    "def unigram_counts(sequences):\n",
    "    \"\"\"Return a dictionary keyed to each unique value in the input sequence list that\n",
    "    counts the number of occurrences of the value in the sequences list. The sequences\n",
    "    collection should be a 2-dimensional array.\n",
    "    \n",
    "    For example, if the tag NOUN appears 275558 times over all the input sequences,\n",
    "    then you should return a dictionary such that your_unigram_counts[NOUN] == 275558.\n",
    "    \"\"\"\n",
    "    # TODO: Finish this function!\n",
    "    raise NotImplementedError\n",
    "\n",
    "# TODO: call unigram_counts with a list of tag sequences from the training set\n",
    "tag_unigrams = unigram_counts(# TODO: YOUR CODE HERE)\n",
    "\n",
    "assert set(tag_unigrams.keys()) == data.training_set.tagset, \\\n",
    "       \"Uh oh. It looks like your tag counts doesn't include all the tags!\"\n",
    "assert min(tag_unigrams, key=tag_unigrams.get) == 'X', \\\n",
    "       \"Hmmm...'X' is expected to be the least common class\"\n",
    "assert max(tag_unigrams, key=tag_unigrams.get) == 'NOUN', \\\n",
    "       \"Hmmm...'NOUN' is expected to be the most common class\"\n",
    "HTML('<div class=\"alert alert-block alert-success\">Your tag unigrams look good!</div>')"
   ]
  },
  {
   "cell_type": "markdown",
   "metadata": {},
   "source": [
    "### IMPLEMENTATION: Bigram Counts\n",
    "\n",
    "Complete the function below to estimate the co-occurrence frequency of each pair of symbols in each of the input sequences. These counts are used in the HMM model to estimate the bigram probability of two tags from the frequency counts according to the formula: $$P(tag_2|tag_1) = \\frac{C(tag_2|tag_1)}{C(tag_2)}$$\n"
   ]
  },
  {
   "cell_type": "code",
   "execution_count": null,
   "metadata": {
    "collapsed": true
   },
   "outputs": [],
   "source": [
    "def bigram_counts(sequences):\n",
    "    \"\"\"Return a dictionary keyed to each unique PAIR of values in the input sequences\n",
    "    list that counts the number of occurrences of pair in the sequences list. The input\n",
    "    should be a 2-dimensional array.\n",
    "    \n",
    "    For example, if the pair of tags (NOUN, VERB) appear 61582 times, then you should\n",
    "    return a dictionary such that your_bigram_counts[(NOUN, VERB)] == 61582\n",
    "    \"\"\"\n",
    "\n",
    "    # TODO: Finish this function!\n",
    "    raise NotImplementedError\n",
    "\n",
    "# TODO: call bigram_counts with a list of tag sequences from the training set\n",
    "tag_bigrams = bigram_counts(# TODO: YOUR CODE HERE)\n",
    "\n",
    "assert len(tag_bigrams) == 144, \\\n",
    "       \"Uh oh. There should be 144 pairs of bigrams (12 tags x 12 tags)\"\n",
    "assert min(tag_bigrams, key=tag_bigrams.get) in [('X', 'NUM'), ('PRON', 'X')], \\\n",
    "       \"Hmmm...The least common bigram should be one of ('X', 'NUM') or ('PRON', 'X').\"\n",
    "assert max(tag_bigrams, key=tag_bigrams.get) in [('DET', 'NOUN')], \\\n",
    "       \"Hmmm...('DET', 'NOUN') is expected to be the most common bigram.\"\n",
    "HTML('<div class=\"alert alert-block alert-success\">Your tag bigrams look good!</div>')"
   ]
  },
  {
   "cell_type": "markdown",
   "metadata": {},
   "source": [
    "### IMPLEMENTATION: Sequence Starting Counts\n",
    "Complete the code below to estimate the bigram probabilities of a sequence starting with each tag."
   ]
  },
  {
   "cell_type": "code",
   "execution_count": null,
   "metadata": {
    "collapsed": true
   },
   "outputs": [],
   "source": [
    "def starting_counts(sequences):\n",
    "    \"\"\"Return a dictionary keyed to each unique value in the input sequences list\n",
    "    that counts the number of occurrences where that value is at the beginning of\n",
    "    a sequence.\n",
    "    \n",
    "    For example, if 8093 sequences start with NOUN, then you should return a\n",
    "    dictionary such that your_starting_counts[NOUN] == 8093\n",
    "    \"\"\"\n",
    "    # TODO: Finish this function!\n",
    "    raise NotImplementedError\n",
    "\n",
    "# TODO: Calculate the count of each tag starting a sequence\n",
    "tag_starts = starting_counts(# TODO: YOUR CODE HERE)\n",
    "\n",
    "assert len(tag_starts) == 12, \"Uh oh. There should be 12 tags in your dictionary.\"\n",
    "assert min(tag_starts, key=tag_starts.get) == 'X', \"Hmmm...'X' is expected to be the least common starting bigram.\"\n",
    "assert max(tag_starts, key=tag_starts.get) == 'DET', \"Hmmm...'DET' is expected to be the most common starting bigram.\"\n",
    "HTML('<div class=\"alert alert-block alert-success\">Your starting tag counts look good!</div>')"
   ]
  },
  {
   "cell_type": "markdown",
   "metadata": {},
   "source": [
    "### IMPLEMENTATION: Sequence Ending Counts\n",
    "Complete the function below to estimate the bigram probabilities of a sequence ending with each tag."
   ]
  },
  {
   "cell_type": "code",
   "execution_count": null,
   "metadata": {
    "collapsed": true
   },
   "outputs": [],
   "source": [
    "def ending_counts(sequences):\n",
    "    \"\"\"Return a dictionary keyed to each unique value in the input sequences list\n",
    "    that counts the number of occurrences where that value is at the end of\n",
    "    a sequence.\n",
    "    \n",
    "    For example, if 18 sequences end with DET, then you should return a\n",
    "    dictionary such that your_starting_counts[DET] == 18\n",
    "    \"\"\"\n",
    "    # TODO: Finish this function!\n",
    "    raise NotImplementedError\n",
    "\n",
    "# TODO: Calculate the count of each tag ending a sequence\n",
    "tag_ends = ending_counts(# TODO: YOUR CODE HERE)\n",
    "\n",
    "assert len(tag_ends) == 12, \"Uh oh. There should be 12 tags in your dictionary.\"\n",
    "assert min(tag_ends, key=tag_ends.get) in ['X', 'CONJ'], \"Hmmm...'X' or 'CONJ' should be the least common ending bigram.\"\n",
    "assert max(tag_ends, key=tag_ends.get) == '.', \"Hmmm...'.' is expected to be the most common ending bigram.\"\n",
    "HTML('<div class=\"alert alert-block alert-success\">Your ending tag counts look good!</div>')"
   ]
  },
  {
   "cell_type": "markdown",
   "metadata": {},
   "source": [
    "### IMPLEMENTATION: Basic HMM Tagger\n",
    "Use the tag unigrams and bigrams calculated above to construct a hidden Markov tagger.\n",
    "\n",
    "- Add one state per tag\n",
    "    - The emission distribution at each state should be estimated with the formula: $P(w|t) = \\frac{C(t, w)}{C(t)}$\n",
    "- Add an edge from the starting state `basic_model.start` to each tag\n",
    "    - The transition probability should be estimated with the formula: $P(t|start) = \\frac{C(start, t)}{C(start)}$\n",
    "- Add an edge from each tag to the end state `basic_model.end`\n",
    "    - The transition probability should be estimated with the formula: $P(end|t) = \\frac{C(t, end)}{C(t)}$\n",
    "- Add an edge between _every_ pair of tags\n",
    "    - The transition probability should be estimated with the formula: $P(t_2|t_1) = \\frac{C(t_1, t_2)}{C(t_1)}$"
   ]
  },
  {
   "cell_type": "code",
   "execution_count": null,
   "metadata": {
    "collapsed": true
   },
   "outputs": [],
   "source": [
    "basic_model = HiddenMarkovModel(name=\"base-hmm-tagger\")\n",
    "\n",
    "# TODO: create states with emission probability distributions P(word | tag) and add to the model\n",
    "# (Hint: you may need to loop & create/add new states)\n",
    "basic_model.add_states()\n",
    "\n",
    "# TODO: add edges between states for the observed transition frequencies P(tag_i | tag_i-1)\n",
    "# (Hint: you may need to loop & add transitions\n",
    "basic_model.add_transition()\n",
    "\n",
    "\n",
    "# NOTE: YOU SHOULD NOT NEED TO MODIFY ANYTHING BELOW THIS LINE\n",
    "# finalize the model\n",
    "basic_model.bake()\n",
    "\n",
    "assert all(tag in set(s.name for s in basic_model.states) for tag in data.training_set.tagset), \\\n",
    "       \"Every state in your network should use the name of the associated tag, which must be one of the training set tags.\"\n",
    "assert basic_model.edge_count() == 168, \\\n",
    "       (\"Your network should have an edge from the start node to each state, one edge between every \" +\n",
    "        \"pair of tags (states), and an edge from each state to the end node.\")\n",
    "HTML('<div class=\"alert alert-block alert-success\">Your HMM network topology looks good!</div>')"
   ]
  },
  {
   "cell_type": "code",
   "execution_count": null,
   "metadata": {
    "collapsed": true,
    "scrolled": true
   },
   "outputs": [],
   "source": [
    "hmm_training_acc = accuracy(data.training_set.X, data.training_set.Y, basic_model)\n",
    "print(\"training accuracy basic hmm model: {:.2f}%\".format(100 * hmm_training_acc))\n",
    "\n",
    "hmm_testing_acc = accuracy(data.testing_set.X, data.testing_set.Y, basic_model)\n",
    "print(\"testing accuracy basic hmm model: {:.2f}%\".format(100 * hmm_testing_acc))\n",
    "\n",
    "assert hmm_training_acc > 0.97, \"Uh oh. Your HMM accuracy on the training set doesn't look right.\"\n",
    "assert hmm_training_acc > 0.955, \"Uh oh. Your HMM accuracy on the training set doesn't look right.\"\n",
    "HTML('<div class=\"alert alert-block alert-success\">Your HMM tagger accuracy looks correct! Congratulations, you\\'ve finished the project.</div>')"
   ]
  },
  {
   "cell_type": "markdown",
   "metadata": {},
   "source": [
    "### Example Decoding Sequences with the HMM Tagger"
   ]
  },
  {
   "cell_type": "code",
   "execution_count": null,
   "metadata": {
    "collapsed": true
   },
   "outputs": [],
   "source": [
    "for key in data.testing_set.keys[:3]:\n",
    "    print(\"Sentence Key: {}\\n\".format(key))\n",
    "    print(\"Predicted labels:\\n-----------------\")\n",
    "    print(simplify_decoding(data.sentences[key].words, basic_model))\n",
    "    print()\n",
    "    print(\"Actual labels:\\n--------------\")\n",
    "    print(data.sentences[key].tags)\n",
    "    print(\"\\n\")"
   ]
  },
  {
   "cell_type": "markdown",
   "metadata": {},
   "source": [
    "\n",
    "## Finishing the project\n",
    "---\n",
    "\n",
    "<div class=\"alert alert-block alert-info\">\n",
    "**Note:** **SAVE YOUR NOTEBOOK**, then run the next cell to generate an HTML copy. You will zip & submit both this file and the HTML copy for review.\n",
    "</div>"
   ]
  },
  {
   "cell_type": "code",
   "execution_count": null,
   "metadata": {
    "collapsed": true
   },
   "outputs": [],
   "source": [
    "!!jupyter nbconvert *.ipynb"
   ]
  },
  {
   "cell_type": "markdown",
   "metadata": {},
   "source": [
    "## Step 4: [Optional] Improving model performance\n",
    "---\n",
    "There are additional enhancements that can be incorporated into your tagger that improve performance on larger tagsets where the data sparsity problem is more significant. The data sparsity problem arises because the same amount of data split over more tags means there will be fewer samples in each tag, and there will be more missing data  tags that have zero occurrences in the data. The techniques in this section are optional.\n",
    "\n",
    "- [Laplace Smoothing](https://en.wikipedia.org/wiki/Additive_smoothing) (pseudocounts)\n",
    "    Laplace smoothing is a technique where you add a small, non-zero value to all observed counts to offset for unobserved values.\n",
    "\n",
    "- Backoff Smoothing\n",
    "    Another smoothing technique is to interpolate between n-grams for missing data. This method is more effective than Laplace smoothing at combatting the data sparsity problem. Refer to chapters 4, 9, and 10 of the [Speech & Language Processing](https://web.stanford.edu/~jurafsky/slp3/) book for more information.\n",
    "\n",
    "- Extending to Trigrams\n",
    "    HMM taggers have achieved better than 96% accuracy on this dataset with the full Penn treebank tagset using an architecture described in [this](http://www.coli.uni-saarland.de/~thorsten/publications/Brants-ANLP00.pdf) paper. Altering your HMM to achieve the same performance would require implementing deleted interpolation (described in the paper), incorporating trigram probabilities in your frequency tables, and re-implementing the Viterbi algorithm to consider three consecutive states instead of two.\n",
    "\n",
    "### Obtain the Brown Corpus with a Larger Tagset\n",
    "Run the code below to download a copy of the brown corpus with the full NLTK tagset. You will need to research the available tagset information in the NLTK docs and determine the best way to extract the subset of NLTK tags you want to explore. If you write the following the format specified in Step 1, then you can reload the data using all of the code above for comparison.\n",
    "\n",
    "Refer to [Chapter 5](http://www.nltk.org/book/ch05.html) of the NLTK book for more information on the available tagsets."
   ]
  },
  {
   "cell_type": "code",
   "execution_count": null,
   "metadata": {
    "collapsed": true
   },
   "outputs": [],
   "source": [
    "import nltk\n",
    "from nltk import pos_tag, word_tokenize\n",
    "from nltk.corpus import brown\n",
    "\n",
    "nltk.download('brown')\n",
    "training_corpus = nltk.corpus.brown\n",
    "training_corpus.tagged_sents()[0]"
   ]
  }
 ],
 "metadata": {
  "kernelspec": {
   "display_name": "Python 3",
   "language": "python",
   "name": "python3"
  },
  "language_info": {
   "codemirror_mode": {
    "name": "ipython",
    "version": 3
   },
   "file_extension": ".py",
   "mimetype": "text/x-python",
   "name": "python",
   "nbconvert_exporter": "python",
   "pygments_lexer": "ipython3",
   "version": "3.5.6"
  }
 },
 "nbformat": 4,
 "nbformat_minor": 2
}
